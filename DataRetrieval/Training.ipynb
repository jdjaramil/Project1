{
 "cells": [
  {
   "cell_type": "code",
   "execution_count": 1,
   "id": "5659fd5f",
   "metadata": {
    "scrolled": false
   },
   "outputs": [],
   "source": [
    "import nltk\n",
    "#nltk.download()"
   ]
  },
  {
   "cell_type": "code",
   "execution_count": 2,
   "id": "d5da22de",
   "metadata": {},
   "outputs": [],
   "source": [
    "import spacy"
   ]
  },
  {
   "cell_type": "code",
   "execution_count": 3,
   "id": "8cdc0301",
   "metadata": {},
   "outputs": [],
   "source": [
    "#Create a string as an example.\n",
    "example = \"Sean, the sheep, is really happy to have a friend as Fran. Fran gives him grass.\""
   ]
  },
  {
   "cell_type": "code",
   "execution_count": 4,
   "id": "e581a7d2",
   "metadata": {},
   "outputs": [],
   "source": [
    "from sklearn.feature_extraction.text import TfidfVectorizer\n",
    "import re\n",
    "\n",
    "# Write a function for cleaning strings and returning an array of ngrams\n",
    "def ngrams_analyzer(string):\n",
    "    string = re.sub(r'[,-./]', r'', string)\n",
    "    ngrams = zip(*[string[i:] for i in range(5)])  # N-Gram length is 5\n",
    "    return [''.join(ngram) for ngram in ngrams]\n",
    "\n",
    "# Construct your vectorizer for building the TF-IDF matrix\n",
    "vectorizer = TfidfVectorizer(analyzer=ngrams_analyzer)"
   ]
  },
  {
   "cell_type": "code",
   "execution_count": 5,
   "id": "e82dc065",
   "metadata": {},
   "outputs": [],
   "source": [
    "#Create word vectors yourself\n",
    "import gensim\n",
    "word2vev_model = gensim.models.word2vec.Word2Vec(example)"
   ]
  },
  {
   "cell_type": "markdown",
   "id": "0e939a17",
   "metadata": {},
   "source": [
    "# Stop Words\n",
    "Common words that if removed does not change the semantics of a text and can improve the performance of a model."
   ]
  },
  {
   "cell_type": "code",
   "execution_count": 6,
   "id": "7803ff22",
   "metadata": {},
   "outputs": [],
   "source": [
    "# nltk: Removing STOP WORDS\n",
    "#Stop words are the very common words like ‘if’, ‘but’, ‘we’, ‘he’, ‘she’, and ‘they’.\n",
    "#We can usually remove these words without changing the semantics of a text and\n",
    "#doing so often (but not always) improves the performance of a model.\n",
    "from nltk.corpus import stopwords\n",
    "english_stop_words = stopwords.words('english')"
   ]
  },
  {
   "cell_type": "code",
   "execution_count": 7,
   "id": "4373f379",
   "metadata": {},
   "outputs": [
    {
     "data": {
      "text/plain": [
       "['i',\n",
       " 'me',\n",
       " 'my',\n",
       " 'myself',\n",
       " 'we',\n",
       " 'our',\n",
       " 'ours',\n",
       " 'ourselves',\n",
       " 'you',\n",
       " \"you're\",\n",
       " \"you've\",\n",
       " \"you'll\",\n",
       " \"you'd\",\n",
       " 'your',\n",
       " 'yours',\n",
       " 'yourself',\n",
       " 'yourselves',\n",
       " 'he',\n",
       " 'him',\n",
       " 'his',\n",
       " 'himself',\n",
       " 'she',\n",
       " \"she's\",\n",
       " 'her',\n",
       " 'hers',\n",
       " 'herself',\n",
       " 'it',\n",
       " \"it's\",\n",
       " 'its',\n",
       " 'itself',\n",
       " 'they',\n",
       " 'them',\n",
       " 'their',\n",
       " 'theirs',\n",
       " 'themselves',\n",
       " 'what',\n",
       " 'which',\n",
       " 'who',\n",
       " 'whom',\n",
       " 'this',\n",
       " 'that',\n",
       " \"that'll\",\n",
       " 'these',\n",
       " 'those',\n",
       " 'am',\n",
       " 'is',\n",
       " 'are',\n",
       " 'was',\n",
       " 'were',\n",
       " 'be',\n",
       " 'been',\n",
       " 'being',\n",
       " 'have',\n",
       " 'has',\n",
       " 'had',\n",
       " 'having',\n",
       " 'do',\n",
       " 'does',\n",
       " 'did',\n",
       " 'doing',\n",
       " 'a',\n",
       " 'an',\n",
       " 'the',\n",
       " 'and',\n",
       " 'but',\n",
       " 'if',\n",
       " 'or',\n",
       " 'because',\n",
       " 'as',\n",
       " 'until',\n",
       " 'while',\n",
       " 'of',\n",
       " 'at',\n",
       " 'by',\n",
       " 'for',\n",
       " 'with',\n",
       " 'about',\n",
       " 'against',\n",
       " 'between',\n",
       " 'into',\n",
       " 'through',\n",
       " 'during',\n",
       " 'before',\n",
       " 'after',\n",
       " 'above',\n",
       " 'below',\n",
       " 'to',\n",
       " 'from',\n",
       " 'up',\n",
       " 'down',\n",
       " 'in',\n",
       " 'out',\n",
       " 'on',\n",
       " 'off',\n",
       " 'over',\n",
       " 'under',\n",
       " 'again',\n",
       " 'further',\n",
       " 'then',\n",
       " 'once',\n",
       " 'here',\n",
       " 'there',\n",
       " 'when',\n",
       " 'where',\n",
       " 'why',\n",
       " 'how',\n",
       " 'all',\n",
       " 'any',\n",
       " 'both',\n",
       " 'each',\n",
       " 'few',\n",
       " 'more',\n",
       " 'most',\n",
       " 'other',\n",
       " 'some',\n",
       " 'such',\n",
       " 'no',\n",
       " 'nor',\n",
       " 'not',\n",
       " 'only',\n",
       " 'own',\n",
       " 'same',\n",
       " 'so',\n",
       " 'than',\n",
       " 'too',\n",
       " 'very',\n",
       " 's',\n",
       " 't',\n",
       " 'can',\n",
       " 'will',\n",
       " 'just',\n",
       " 'don',\n",
       " \"don't\",\n",
       " 'should',\n",
       " \"should've\",\n",
       " 'now',\n",
       " 'd',\n",
       " 'll',\n",
       " 'm',\n",
       " 'o',\n",
       " 're',\n",
       " 've',\n",
       " 'y',\n",
       " 'ain',\n",
       " 'aren',\n",
       " \"aren't\",\n",
       " 'couldn',\n",
       " \"couldn't\",\n",
       " 'didn',\n",
       " \"didn't\",\n",
       " 'doesn',\n",
       " \"doesn't\",\n",
       " 'hadn',\n",
       " \"hadn't\",\n",
       " 'hasn',\n",
       " \"hasn't\",\n",
       " 'haven',\n",
       " \"haven't\",\n",
       " 'isn',\n",
       " \"isn't\",\n",
       " 'ma',\n",
       " 'mightn',\n",
       " \"mightn't\",\n",
       " 'mustn',\n",
       " \"mustn't\",\n",
       " 'needn',\n",
       " \"needn't\",\n",
       " 'shan',\n",
       " \"shan't\",\n",
       " 'shouldn',\n",
       " \"shouldn't\",\n",
       " 'wasn',\n",
       " \"wasn't\",\n",
       " 'weren',\n",
       " \"weren't\",\n",
       " 'won',\n",
       " \"won't\",\n",
       " 'wouldn',\n",
       " \"wouldn't\"]"
      ]
     },
     "execution_count": 7,
     "metadata": {},
     "output_type": "execute_result"
    }
   ],
   "source": [
    "#List of stop words\n",
    "english_stop_words"
   ]
  },
  {
   "cell_type": "code",
   "execution_count": 10,
   "id": "c8784ebe",
   "metadata": {
    "scrolled": true
   },
   "outputs": [
    {
     "ename": "NameError",
     "evalue": "name 'nlp' is not defined",
     "output_type": "error",
     "traceback": [
      "\u001b[1;31m---------------------------------------------------------------------------\u001b[0m",
      "\u001b[1;31mNameError\u001b[0m                                 Traceback (most recent call last)",
      "\u001b[1;32m~\\AppData\\Local\\Temp\\ipykernel_7044\\3455066402.py\u001b[0m in \u001b[0;36m<module>\u001b[1;34m\u001b[0m\n\u001b[0;32m      1\u001b[0m \u001b[1;31m#Taking out the STOP WORDS from the example\u001b[0m\u001b[1;33m\u001b[0m\u001b[1;33m\u001b[0m\u001b[1;33m\u001b[0m\u001b[0m\n\u001b[1;32m----> 2\u001b[1;33m \u001b[0mdoc\u001b[0m \u001b[1;33m=\u001b[0m \u001b[0mnlp\u001b[0m\u001b[1;33m(\u001b[0m\u001b[0mexample\u001b[0m\u001b[1;33m)\u001b[0m\u001b[1;33m\u001b[0m\u001b[1;33m\u001b[0m\u001b[0m\n\u001b[0m\u001b[0;32m      3\u001b[0m \u001b[0mtokens\u001b[0m \u001b[1;33m=\u001b[0m \u001b[1;33m[\u001b[0m\u001b[0mtoken\u001b[0m\u001b[1;33m.\u001b[0m\u001b[0mtext\u001b[0m \u001b[1;32mfor\u001b[0m \u001b[0mtoken\u001b[0m \u001b[1;32min\u001b[0m \u001b[0mdoc\u001b[0m \u001b[1;32mif\u001b[0m \u001b[1;32mnot\u001b[0m \u001b[0mtoken\u001b[0m\u001b[1;33m.\u001b[0m\u001b[0mis_stop\u001b[0m\u001b[1;33m]\u001b[0m\u001b[1;33m\u001b[0m\u001b[1;33m\u001b[0m\u001b[0m\n\u001b[0;32m      4\u001b[0m \u001b[0mprint\u001b[0m\u001b[1;33m(\u001b[0m\u001b[0mtokens\u001b[0m\u001b[1;33m)\u001b[0m\u001b[1;33m\u001b[0m\u001b[1;33m\u001b[0m\u001b[0m\n",
      "\u001b[1;31mNameError\u001b[0m: name 'nlp' is not defined"
     ]
    }
   ],
   "source": [
    "#Taking out the STOP WORDS from the example\n",
    "doc = nlp(example)\n",
    "tokens = [token.text for token in doc if not token.is_stop]\n",
    "print(tokens)"
   ]
  },
  {
   "cell_type": "markdown",
   "id": "e27eaa69",
   "metadata": {},
   "source": [
    "# Token and Tokenization\n",
    "Segmenting text into words, punctuation."
   ]
  },
  {
   "cell_type": "code",
   "execution_count": null,
   "id": "fe22fd30",
   "metadata": {
    "scrolled": true
   },
   "outputs": [],
   "source": [
    "doc = nlp(example)\n",
    "token_val = [token.text for token in doc]\n",
    "print(token_val)"
   ]
  },
  {
   "cell_type": "code",
   "execution_count": null,
   "id": "834df6e8",
   "metadata": {},
   "outputs": [],
   "source": [
    "nltk.word_tokenize(example)"
   ]
  },
  {
   "cell_type": "markdown",
   "id": "9daaf96a",
   "metadata": {},
   "source": [
    "# Bag of Words\n",
    "Getting a dictionary with # of ocurrence"
   ]
  },
  {
   "cell_type": "code",
   "execution_count": null,
   "id": "41760b5e",
   "metadata": {},
   "outputs": [],
   "source": [
    "#Getting a dictionary with the word as key and the # of ocurrence as value.\n",
    "dict_val = {}\n",
    "for i in list_words:\n",
    "    if i in dict_val.keys():\n",
    "        dict_val[i] += 1\n",
    "    else:\n",
    "        dict_val[i] = 1"
   ]
  },
  {
   "cell_type": "code",
   "execution_count": null,
   "id": "952820b4",
   "metadata": {},
   "outputs": [],
   "source": [
    "dict_val"
   ]
  },
  {
   "cell_type": "code",
   "execution_count": null,
   "id": "c1c39cda",
   "metadata": {},
   "outputs": [],
   "source": [
    "tokens = [t for t in example.split()]\n",
    "nltk.FreqDist(tokens)"
   ]
  },
  {
   "cell_type": "markdown",
   "id": "12a90fe6",
   "metadata": {},
   "source": [
    "# Part-of-speech (POS) Tagging\n",
    "Assigning word types to tokens like verb or noun."
   ]
  },
  {
   "cell_type": "code",
   "execution_count": null,
   "id": "21cbcab5",
   "metadata": {},
   "outputs": [],
   "source": [
    "pos_tags = nltk.pos_tag(tokens)\n",
    "print(pos_tags)"
   ]
  },
  {
   "cell_type": "code",
   "execution_count": null,
   "id": "ed94c85b",
   "metadata": {},
   "outputs": [],
   "source": [
    "[(x.orth_, x.pos_, spacy.explain(x.pos_)) for x in [token for token in doc]]"
   ]
  },
  {
   "cell_type": "code",
   "execution_count": null,
   "id": "a12ea2f2",
   "metadata": {},
   "outputs": [],
   "source": [
    "[(x.orth_, x.tag_, spacy.explain(x.tag_)) for x in [token for token in doc]]"
   ]
  },
  {
   "cell_type": "code",
   "execution_count": null,
   "id": "e0086e4e",
   "metadata": {},
   "outputs": [],
   "source": [
    "#For nltk package\n",
    "import nltk\n",
    "\n",
    "tokens = nltk.word_tokenize(example)\n",
    "pos_tags = nltk.pos_tag(tokens)\n",
    "pos_tags"
   ]
  },
  {
   "cell_type": "markdown",
   "id": "90696826",
   "metadata": {},
   "source": [
    "# Stemming \n",
    "Process of reducing words to their root form."
   ]
  },
  {
   "cell_type": "code",
   "execution_count": null,
   "id": "a860010d",
   "metadata": {},
   "outputs": [],
   "source": [
    "from nltk.stem.porter import *"
   ]
  },
  {
   "cell_type": "code",
   "execution_count": null,
   "id": "85cb8a32",
   "metadata": {},
   "outputs": [],
   "source": [
    "c"
   ]
  },
  {
   "cell_type": "code",
   "execution_count": null,
   "id": "39b2c8f0",
   "metadata": {},
   "outputs": [],
   "source": [
    "#Other Example\n",
    "tokens_2 = ['compute', 'computer', 'computed', 'computing','running','ran']\n",
    "for token in tokens_2:\n",
    "    print(token + ' --> ' + PorterStemmer().stem(token))"
   ]
  },
  {
   "cell_type": "markdown",
   "id": "1478474f",
   "metadata": {},
   "source": [
    "# Lemmatization\n",
    "Assigning the base form of word"
   ]
  },
  {
   "cell_type": "code",
   "execution_count": null,
   "id": "89665f7c",
   "metadata": {
    "scrolled": true
   },
   "outputs": [],
   "source": [
    "words=example.lower().split(' ')\n",
    "[nltk.PorterStemmer().stem(t) for t in words]"
   ]
  },
  {
   "cell_type": "code",
   "execution_count": null,
   "id": "011591de",
   "metadata": {
    "scrolled": true
   },
   "outputs": [],
   "source": [
    "[nltk.WordNetLemmatizer().lemmatize(t) for t in words]"
   ]
  },
  {
   "cell_type": "code",
   "execution_count": null,
   "id": "0af9ff8a",
   "metadata": {
    "scrolled": true
   },
   "outputs": [],
   "source": [
    "words"
   ]
  },
  {
   "cell_type": "code",
   "execution_count": null,
   "id": "3174b0b0",
   "metadata": {
    "scrolled": true
   },
   "outputs": [],
   "source": [
    "[(x.orth_, x.lemma_) for x in [token for token in doc]]"
   ]
  },
  {
   "cell_type": "code",
   "execution_count": null,
   "id": "28da2669",
   "metadata": {},
   "outputs": [],
   "source": [
    "#Example 2\n",
    "doc_2 = nlp('The more the marble wastes, the more the statues grow')\n",
    "[(x.orth_, x.lemma_) for x in [token for token in doc_2]]"
   ]
  },
  {
   "cell_type": "markdown",
   "id": "c80cf72b",
   "metadata": {},
   "source": [
    "# Unigram \n",
    "Unigram = one word, eg the, and, of, hotel"
   ]
  },
  {
   "cell_type": "code",
   "execution_count": null,
   "id": "766f3fc0",
   "metadata": {
    "scrolled": true
   },
   "outputs": [],
   "source": [
    "from sklearn.feature_extraction.text import CountVectorizer\n",
    "import pandas as pd\n",
    "\n",
    "def get_top_n_words(corpus, n=None):\n",
    "    vec = CountVectorizer(stop_words='english').fit(corpus)\n",
    "    bag_of_words = vec.transform(corpus)\n",
    "    sum_words = bag_of_words.sum(axis=0) \n",
    "    words_freq = [(word, sum_words[0, idx]) for word, idx in vec.vocabulary_.items()]\n",
    "    words_freq = sorted(words_freq, key = lambda x: x[1], reverse=True)\n",
    "    return words_freq[:n]"
   ]
  },
  {
   "cell_type": "code",
   "execution_count": null,
   "id": "e2cb9639",
   "metadata": {
    "scrolled": true
   },
   "outputs": [],
   "source": [
    "text = [\"The quick brown fox jumped over the lazy dog.\"]\n",
    "\n",
    "common_words = get_top_n_words(text, 20) # or use df['desc'] \n",
    "\n",
    "df2 = pd.DataFrame(common_words, columns = ['desc' , 'count'])\n",
    "df2.groupby('desc').sum()['count'].sort_values().plot(kind='barh', title='Top 20 words in hotel description after removing stop words')"
   ]
  },
  {
   "cell_type": "code",
   "execution_count": null,
   "id": "4fa566e7",
   "metadata": {},
   "outputs": [],
   "source": [
    "example_ = get_top_n_words(token_val)\n",
    "df3 = pd.DataFrame(example_, columns = ['desc' , 'count'])\n",
    "df3.groupby('desc').sum()['count'].sort_values().plot(kind='barh', title='Top 20 words in hotel description after removing stop words')"
   ]
  },
  {
   "cell_type": "markdown",
   "id": "eac9ed01",
   "metadata": {},
   "source": [
    "# Bigrams\n",
    "Bigrams = two consecutive words, eg the hotel, in seattle, the city"
   ]
  },
  {
   "cell_type": "code",
   "execution_count": null,
   "id": "87879638",
   "metadata": {},
   "outputs": [],
   "source": [
    "def get_top_n_bigram(corpus, n=None):\n",
    "    vec = CountVectorizer(ngram_range=(2, 2), stop_words='english').fit(corpus)\n",
    "    bag_of_words = vec.transform(corpus)\n",
    "    sum_words = bag_of_words.sum(axis=0) \n",
    "    words_freq = [(word, sum_words[0, idx]) for word, idx in vec.vocabulary_.items()]\n",
    "    words_freq =sorted(words_freq, key = lambda x: x[1], reverse=True)\n",
    "    return words_freq[:n]"
   ]
  },
  {
   "cell_type": "code",
   "execution_count": null,
   "id": "0eeb503c",
   "metadata": {},
   "outputs": [],
   "source": [
    "common_words = get_top_n_bigram(df2['desc'], 20)\n",
    "\n",
    "df4 = pd.DataFrame(common_words, columns = ['desc' , 'count'])\n",
    "df4.groupby('desc').sum()['count'].sort_values(ascending=False).iplot(kind='bar', yTitle='Count', linecolor='black', title='Top 20 bigrams in hotel description After removing stop words')\n"
   ]
  },
  {
   "cell_type": "markdown",
   "id": "5915f9db",
   "metadata": {},
   "source": [
    "# Trigrams\n",
    "Trigrams = three consecutive words, eg easy access to, high speed internet, the heart of"
   ]
  },
  {
   "cell_type": "code",
   "execution_count": null,
   "id": "dfb02c18",
   "metadata": {},
   "outputs": [],
   "source": [
    "def get_top_n_trigram(corpus, n=None):\n",
    "    vec = CountVectorizer(ngram_range=(3, 3), stop_words='english').fit(corpus)\n",
    "    bag_of_words = vec.transform(corpus)\n",
    "    sum_words = bag_of_words.sum(axis=0) \n",
    "    words_freq = [(word, sum_words[0, idx]) for word, idx in vec.vocabulary_.items()]\n",
    "    words_freq =sorted(words_freq, key = lambda x: x[1], reverse=True)\n",
    "    return words_freq[:n]"
   ]
  },
  {
   "cell_type": "code",
   "execution_count": null,
   "id": "48dac99e",
   "metadata": {},
   "outputs": [],
   "source": [
    "common_words = get_top_n_trigram(df['desc'], 20)\n",
    "df6 = pd.DataFrame(common_words, columns = ['desc' , 'count'])\n",
    "df6.groupby('desc').sum()['count'].sort_values(ascending=False).iplot(kind='bar', yTitle='Count', linecolor='black', title='Top 20 trigrams in hotel description after removing stop words')"
   ]
  },
  {
   "cell_type": "code",
   "execution_count": null,
   "id": "d7e9be53",
   "metadata": {},
   "outputs": [],
   "source": []
  },
  {
   "cell_type": "code",
   "execution_count": null,
   "id": "3c8772b9",
   "metadata": {},
   "outputs": [],
   "source": []
  },
  {
   "cell_type": "code",
   "execution_count": null,
   "id": "5853d355",
   "metadata": {},
   "outputs": [],
   "source": []
  },
  {
   "cell_type": "code",
   "execution_count": null,
   "id": "ae85ba1c",
   "metadata": {},
   "outputs": [],
   "source": []
  }
 ],
 "metadata": {
  "kernelspec": {
   "display_name": "Python 3 (ipykernel)",
   "language": "python",
   "name": "python3"
  },
  "language_info": {
   "codemirror_mode": {
    "name": "ipython",
    "version": 3
   },
   "file_extension": ".py",
   "mimetype": "text/x-python",
   "name": "python",
   "nbconvert_exporter": "python",
   "pygments_lexer": "ipython3",
   "version": "3.8.8"
  }
 },
 "nbformat": 4,
 "nbformat_minor": 5
}
