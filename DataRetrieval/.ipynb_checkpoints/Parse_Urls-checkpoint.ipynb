{
 "cells": [
  {
   "cell_type": "code",
   "execution_count": 1,
   "id": "94986d67",
   "metadata": {},
   "outputs": [],
   "source": [
    "import pandas as pd\n",
    "import numpy as np\n",
    "from bs4 import BeautifulSoup\n",
    "import requests\n",
    "import re\n",
    "import unidecode\n",
    "from time import sleep\n",
    "from tqdm import tqdm"
   ]
  },
  {
   "cell_type": "code",
   "execution_count": 7,
   "id": "b94d7e8e",
   "metadata": {
    "scrolled": false
   },
   "outputs": [
    {
     "name": "stdout",
     "output_type": "stream",
     "text": [
      "date            datetime64[ns]\n",
      "date2           datetime64[ns]\n",
      "permno                   int64\n",
      "comnam                  object\n",
      "ncusip                  object\n",
      "ticker                  object\n",
      "gvkey                    int64\n",
      "cik                    float64\n",
      "filingDate      datetime64[ns]\n",
      "reportDate      datetime64[ns]\n",
      "reportDate2     datetime64[ns]\n",
      "form                    object\n",
      "size                   float64\n",
      "isXBRL                   int64\n",
      "isInlineXBRL             int64\n",
      "url                     object\n",
      "url_txt                 object\n",
      "dtype: object\n",
      "(11383, 17)\n"
     ]
    },
    {
     "name": "stderr",
     "output_type": "stream",
     "text": [
      "C:\\Users\\JuliJaramillo\\anaconda3\\lib\\site-packages\\IPython\\core\\interactiveshell.py:3444: DtypeWarning: Columns (9) have mixed types.Specify dtype option on import or set low_memory=False.\n",
      "  exec(code_obj, self.user_global_ns, self.user_ns)\n"
     ]
    },
    {
     "data": {
      "text/html": [
       "<div>\n",
       "<style scoped>\n",
       "    .dataframe tbody tr th:only-of-type {\n",
       "        vertical-align: middle;\n",
       "    }\n",
       "\n",
       "    .dataframe tbody tr th {\n",
       "        vertical-align: top;\n",
       "    }\n",
       "\n",
       "    .dataframe thead th {\n",
       "        text-align: right;\n",
       "    }\n",
       "</style>\n",
       "<table border=\"1\" class=\"dataframe\">\n",
       "  <thead>\n",
       "    <tr style=\"text-align: right;\">\n",
       "      <th></th>\n",
       "      <th>date</th>\n",
       "      <th>date2</th>\n",
       "      <th>permno</th>\n",
       "      <th>comnam</th>\n",
       "      <th>ncusip</th>\n",
       "      <th>ticker</th>\n",
       "      <th>gvkey</th>\n",
       "      <th>cik</th>\n",
       "      <th>filingDate</th>\n",
       "      <th>reportDate</th>\n",
       "      <th>reportDate2</th>\n",
       "      <th>form</th>\n",
       "      <th>size</th>\n",
       "      <th>isXBRL</th>\n",
       "      <th>isInlineXBRL</th>\n",
       "      <th>url</th>\n",
       "      <th>url_txt</th>\n",
       "    </tr>\n",
       "  </thead>\n",
       "  <tbody>\n",
       "    <tr>\n",
       "      <th>0</th>\n",
       "      <td>2016-03-31</td>\n",
       "      <td>2016-03-01</td>\n",
       "      <td>60986</td>\n",
       "      <td>NEWELL RUBBERMAID INC</td>\n",
       "      <td>65122910</td>\n",
       "      <td>NWL</td>\n",
       "      <td>7875</td>\n",
       "      <td>814453.0</td>\n",
       "      <td>2016-05-09</td>\n",
       "      <td>2016-03-31</td>\n",
       "      <td>2016-03-01</td>\n",
       "      <td>10-Q</td>\n",
       "      <td>10441516.0</td>\n",
       "      <td>1</td>\n",
       "      <td>0</td>\n",
       "      <td>https://www.sec.gov/Archives/edgar/data/000081...</td>\n",
       "      <td>https://www.sec.gov/Archives/edgar/data/814453...</td>\n",
       "    </tr>\n",
       "    <tr>\n",
       "      <th>1</th>\n",
       "      <td>2016-06-30</td>\n",
       "      <td>2016-06-01</td>\n",
       "      <td>60986</td>\n",
       "      <td>NEWELL BRANDS INC</td>\n",
       "      <td>65122910</td>\n",
       "      <td>NWL</td>\n",
       "      <td>7875</td>\n",
       "      <td>814453.0</td>\n",
       "      <td>2016-08-09</td>\n",
       "      <td>2016-06-30</td>\n",
       "      <td>2016-06-01</td>\n",
       "      <td>10-Q</td>\n",
       "      <td>12904166.0</td>\n",
       "      <td>1</td>\n",
       "      <td>0</td>\n",
       "      <td>https://www.sec.gov/Archives/edgar/data/000081...</td>\n",
       "      <td>https://www.sec.gov/Archives/edgar/data/814453...</td>\n",
       "    </tr>\n",
       "    <tr>\n",
       "      <th>2</th>\n",
       "      <td>2016-09-30</td>\n",
       "      <td>2016-09-01</td>\n",
       "      <td>60986</td>\n",
       "      <td>NEWELL BRANDS INC</td>\n",
       "      <td>65122910</td>\n",
       "      <td>NWL</td>\n",
       "      <td>7875</td>\n",
       "      <td>814453.0</td>\n",
       "      <td>2016-11-08</td>\n",
       "      <td>2016-09-30</td>\n",
       "      <td>2016-09-01</td>\n",
       "      <td>10-Q</td>\n",
       "      <td>12700184.0</td>\n",
       "      <td>1</td>\n",
       "      <td>0</td>\n",
       "      <td>https://www.sec.gov/Archives/edgar/data/000081...</td>\n",
       "      <td>https://www.sec.gov/Archives/edgar/data/814453...</td>\n",
       "    </tr>\n",
       "    <tr>\n",
       "      <th>3</th>\n",
       "      <td>2016-12-31</td>\n",
       "      <td>2016-12-01</td>\n",
       "      <td>60986</td>\n",
       "      <td>NEWELL BRANDS INC</td>\n",
       "      <td>65122910</td>\n",
       "      <td>NWL</td>\n",
       "      <td>7875</td>\n",
       "      <td>814453.0</td>\n",
       "      <td>2017-03-01</td>\n",
       "      <td>2016-12-31</td>\n",
       "      <td>2016-12-01</td>\n",
       "      <td>10-K</td>\n",
       "      <td>20749138.0</td>\n",
       "      <td>1</td>\n",
       "      <td>0</td>\n",
       "      <td>https://www.sec.gov/Archives/edgar/data/000081...</td>\n",
       "      <td>https://www.sec.gov/Archives/edgar/data/814453...</td>\n",
       "    </tr>\n",
       "    <tr>\n",
       "      <th>4</th>\n",
       "      <td>2017-03-31</td>\n",
       "      <td>2017-03-01</td>\n",
       "      <td>60986</td>\n",
       "      <td>NEWELL BRANDS INC</td>\n",
       "      <td>65122910</td>\n",
       "      <td>NWL</td>\n",
       "      <td>7875</td>\n",
       "      <td>814453.0</td>\n",
       "      <td>2017-05-10</td>\n",
       "      <td>2017-03-31</td>\n",
       "      <td>2017-03-01</td>\n",
       "      <td>10-Q</td>\n",
       "      <td>5389784.0</td>\n",
       "      <td>1</td>\n",
       "      <td>0</td>\n",
       "      <td>https://www.sec.gov/Archives/edgar/data/000081...</td>\n",
       "      <td>https://www.sec.gov/Archives/edgar/data/814453...</td>\n",
       "    </tr>\n",
       "  </tbody>\n",
       "</table>\n",
       "</div>"
      ],
      "text/plain": [
       "        date      date2  permno                 comnam    ncusip ticker  \\\n",
       "0 2016-03-31 2016-03-01   60986  NEWELL RUBBERMAID INC  65122910    NWL   \n",
       "1 2016-06-30 2016-06-01   60986      NEWELL BRANDS INC  65122910    NWL   \n",
       "2 2016-09-30 2016-09-01   60986      NEWELL BRANDS INC  65122910    NWL   \n",
       "3 2016-12-31 2016-12-01   60986      NEWELL BRANDS INC  65122910    NWL   \n",
       "4 2017-03-31 2017-03-01   60986      NEWELL BRANDS INC  65122910    NWL   \n",
       "\n",
       "   gvkey       cik filingDate reportDate reportDate2  form        size  \\\n",
       "0   7875  814453.0 2016-05-09 2016-03-31  2016-03-01  10-Q  10441516.0   \n",
       "1   7875  814453.0 2016-08-09 2016-06-30  2016-06-01  10-Q  12904166.0   \n",
       "2   7875  814453.0 2016-11-08 2016-09-30  2016-09-01  10-Q  12700184.0   \n",
       "3   7875  814453.0 2017-03-01 2016-12-31  2016-12-01  10-K  20749138.0   \n",
       "4   7875  814453.0 2017-05-10 2017-03-31  2017-03-01  10-Q   5389784.0   \n",
       "\n",
       "   isXBRL  isInlineXBRL                                                url  \\\n",
       "0       1             0  https://www.sec.gov/Archives/edgar/data/000081...   \n",
       "1       1             0  https://www.sec.gov/Archives/edgar/data/000081...   \n",
       "2       1             0  https://www.sec.gov/Archives/edgar/data/000081...   \n",
       "3       1             0  https://www.sec.gov/Archives/edgar/data/000081...   \n",
       "4       1             0  https://www.sec.gov/Archives/edgar/data/000081...   \n",
       "\n",
       "                                             url_txt  \n",
       "0  https://www.sec.gov/Archives/edgar/data/814453...  \n",
       "1  https://www.sec.gov/Archives/edgar/data/814453...  \n",
       "2  https://www.sec.gov/Archives/edgar/data/814453...  \n",
       "3  https://www.sec.gov/Archives/edgar/data/814453...  \n",
       "4  https://www.sec.gov/Archives/edgar/data/814453...  "
      ]
     },
     "execution_count": 7,
     "metadata": {},
     "output_type": "execute_result"
    }
   ],
   "source": [
    "finalUrls = pd.read_csv('url_with_returns.csv', parse_dates = ['date', 'date2','filingDate', 'reportDate', 'reportDate2'])\n",
    "finalUrls = finalUrls[['date', 'date2','permno', 'comnam', 'ncusip', 'ticker', 'gvkey','cik', 'filingDate', 'reportDate', \n",
    "                       'reportDate2','form', 'size', 'isXBRL', 'isInlineXBRL', 'url', 'url_txt']]\n",
    "finalUrls = finalUrls[finalUrls['reportDate'] >= '2016-01-01'].reset_index(drop = True)\n",
    "print(finalUrls.dtypes)\n",
    "print(finalUrls.shape)\n",
    "finalUrls.head()"
   ]
  },
  {
   "cell_type": "code",
   "execution_count": 4,
   "id": "a7842f30",
   "metadata": {
    "scrolled": true
   },
   "outputs": [
    {
     "data": {
      "text/html": [
       "<div>\n",
       "<style scoped>\n",
       "    .dataframe tbody tr th:only-of-type {\n",
       "        vertical-align: middle;\n",
       "    }\n",
       "\n",
       "    .dataframe tbody tr th {\n",
       "        vertical-align: top;\n",
       "    }\n",
       "\n",
       "    .dataframe thead th {\n",
       "        text-align: right;\n",
       "    }\n",
       "</style>\n",
       "<table border=\"1\" class=\"dataframe\">\n",
       "  <thead>\n",
       "    <tr style=\"text-align: right;\">\n",
       "      <th></th>\n",
       "      <th>date</th>\n",
       "      <th>date2</th>\n",
       "      <th>permno</th>\n",
       "      <th>comnam</th>\n",
       "      <th>ncusip</th>\n",
       "      <th>ticker</th>\n",
       "      <th>gvkey</th>\n",
       "      <th>cik</th>\n",
       "      <th>filingDate</th>\n",
       "      <th>reportDate</th>\n",
       "      <th>reportDate2</th>\n",
       "      <th>form</th>\n",
       "      <th>size</th>\n",
       "      <th>isXBRL</th>\n",
       "      <th>isInlineXBRL</th>\n",
       "      <th>url</th>\n",
       "      <th>url_txt</th>\n",
       "    </tr>\n",
       "  </thead>\n",
       "  <tbody>\n",
       "    <tr>\n",
       "      <th>13</th>\n",
       "      <td>2019-06-30</td>\n",
       "      <td>2019-06-01</td>\n",
       "      <td>60986</td>\n",
       "      <td>NEWELL BRANDS INC</td>\n",
       "      <td>65122910</td>\n",
       "      <td>NWL</td>\n",
       "      <td>7875</td>\n",
       "      <td>814453.0</td>\n",
       "      <td>2019-08-02</td>\n",
       "      <td>2019-06-30</td>\n",
       "      <td>2019-06-01</td>\n",
       "      <td>10-Q</td>\n",
       "      <td>13648560.0</td>\n",
       "      <td>1</td>\n",
       "      <td>1</td>\n",
       "      <td>https://www.sec.gov/Archives/edgar/data/000081...</td>\n",
       "      <td>https://www.sec.gov/Archives/edgar/data/814453...</td>\n",
       "    </tr>\n",
       "    <tr>\n",
       "      <th>14</th>\n",
       "      <td>2019-09-30</td>\n",
       "      <td>2019-09-01</td>\n",
       "      <td>60986</td>\n",
       "      <td>NEWELL BRANDS INC</td>\n",
       "      <td>65122910</td>\n",
       "      <td>NWL</td>\n",
       "      <td>7875</td>\n",
       "      <td>814453.0</td>\n",
       "      <td>2019-11-04</td>\n",
       "      <td>2019-09-30</td>\n",
       "      <td>2019-09-01</td>\n",
       "      <td>10-Q</td>\n",
       "      <td>15635801.0</td>\n",
       "      <td>1</td>\n",
       "      <td>1</td>\n",
       "      <td>https://www.sec.gov/Archives/edgar/data/000081...</td>\n",
       "      <td>https://www.sec.gov/Archives/edgar/data/814453...</td>\n",
       "    </tr>\n",
       "    <tr>\n",
       "      <th>15</th>\n",
       "      <td>2019-12-31</td>\n",
       "      <td>2019-12-01</td>\n",
       "      <td>60986</td>\n",
       "      <td>NEWELL BRANDS INC</td>\n",
       "      <td>65122910</td>\n",
       "      <td>NWL</td>\n",
       "      <td>7875</td>\n",
       "      <td>814453.0</td>\n",
       "      <td>2020-03-02</td>\n",
       "      <td>2019-12-31</td>\n",
       "      <td>2019-12-01</td>\n",
       "      <td>10-K</td>\n",
       "      <td>23975396.0</td>\n",
       "      <td>1</td>\n",
       "      <td>1</td>\n",
       "      <td>https://www.sec.gov/Archives/edgar/data/000081...</td>\n",
       "      <td>https://www.sec.gov/Archives/edgar/data/814453...</td>\n",
       "    </tr>\n",
       "    <tr>\n",
       "      <th>16</th>\n",
       "      <td>2020-03-31</td>\n",
       "      <td>2020-03-01</td>\n",
       "      <td>60986</td>\n",
       "      <td>NEWELL BRANDS INC</td>\n",
       "      <td>65122910</td>\n",
       "      <td>NWL</td>\n",
       "      <td>7875</td>\n",
       "      <td>814453.0</td>\n",
       "      <td>2020-05-01</td>\n",
       "      <td>2020-03-31</td>\n",
       "      <td>2020-03-01</td>\n",
       "      <td>10-Q</td>\n",
       "      <td>12722353.0</td>\n",
       "      <td>1</td>\n",
       "      <td>1</td>\n",
       "      <td>https://www.sec.gov/Archives/edgar/data/000081...</td>\n",
       "      <td>https://www.sec.gov/Archives/edgar/data/814453...</td>\n",
       "    </tr>\n",
       "    <tr>\n",
       "      <th>17</th>\n",
       "      <td>2020-06-30</td>\n",
       "      <td>2020-06-01</td>\n",
       "      <td>60986</td>\n",
       "      <td>NEWELL BRANDS INC</td>\n",
       "      <td>65122910</td>\n",
       "      <td>NWL</td>\n",
       "      <td>7875</td>\n",
       "      <td>814453.0</td>\n",
       "      <td>2020-08-05</td>\n",
       "      <td>2020-06-30</td>\n",
       "      <td>2020-06-01</td>\n",
       "      <td>10-Q</td>\n",
       "      <td>15051393.0</td>\n",
       "      <td>1</td>\n",
       "      <td>1</td>\n",
       "      <td>https://www.sec.gov/Archives/edgar/data/000081...</td>\n",
       "      <td>https://www.sec.gov/Archives/edgar/data/814453...</td>\n",
       "    </tr>\n",
       "    <tr>\n",
       "      <th>...</th>\n",
       "      <td>...</td>\n",
       "      <td>...</td>\n",
       "      <td>...</td>\n",
       "      <td>...</td>\n",
       "      <td>...</td>\n",
       "      <td>...</td>\n",
       "      <td>...</td>\n",
       "      <td>...</td>\n",
       "      <td>...</td>\n",
       "      <td>...</td>\n",
       "      <td>...</td>\n",
       "      <td>...</td>\n",
       "      <td>...</td>\n",
       "      <td>...</td>\n",
       "      <td>...</td>\n",
       "      <td>...</td>\n",
       "      <td>...</td>\n",
       "    </tr>\n",
       "    <tr>\n",
       "      <th>11378</th>\n",
       "      <td>2021-09-30</td>\n",
       "      <td>2021-09-01</td>\n",
       "      <td>18312</td>\n",
       "      <td>MODERNA INC</td>\n",
       "      <td>60770K10</td>\n",
       "      <td>MRNA</td>\n",
       "      <td>34410</td>\n",
       "      <td>1682852.0</td>\n",
       "      <td>2021-11-04</td>\n",
       "      <td>2021-09-30</td>\n",
       "      <td>2021-09-01</td>\n",
       "      <td>10-Q</td>\n",
       "      <td>11653425.0</td>\n",
       "      <td>1</td>\n",
       "      <td>1</td>\n",
       "      <td>https://www.sec.gov/Archives/edgar/data/000168...</td>\n",
       "      <td>https://www.sec.gov/Archives/edgar/data/168285...</td>\n",
       "    </tr>\n",
       "    <tr>\n",
       "      <th>11379</th>\n",
       "      <td>2021-09-30</td>\n",
       "      <td>2021-09-01</td>\n",
       "      <td>75694</td>\n",
       "      <td>BIO TECHNE CORP</td>\n",
       "      <td>09073M10</td>\n",
       "      <td>TECH</td>\n",
       "      <td>15414</td>\n",
       "      <td>842023.0</td>\n",
       "      <td>2021-11-08</td>\n",
       "      <td>2021-09-30</td>\n",
       "      <td>2021-09-01</td>\n",
       "      <td>10-Q</td>\n",
       "      <td>6578134.0</td>\n",
       "      <td>1</td>\n",
       "      <td>1</td>\n",
       "      <td>https://www.sec.gov/Archives/edgar/data/000084...</td>\n",
       "      <td>https://www.sec.gov/Archives/edgar/data/842023...</td>\n",
       "    </tr>\n",
       "    <tr>\n",
       "      <th>11380</th>\n",
       "      <td>2021-09-30</td>\n",
       "      <td>2021-09-01</td>\n",
       "      <td>15850</td>\n",
       "      <td>MATCH GROUP INC NEW</td>\n",
       "      <td>57667L10</td>\n",
       "      <td>MTCH</td>\n",
       "      <td>26061</td>\n",
       "      <td>891103.0</td>\n",
       "      <td>2021-11-08</td>\n",
       "      <td>2021-09-30</td>\n",
       "      <td>2021-09-01</td>\n",
       "      <td>10-Q</td>\n",
       "      <td>11005811.0</td>\n",
       "      <td>1</td>\n",
       "      <td>1</td>\n",
       "      <td>https://www.sec.gov/Archives/edgar/data/000089...</td>\n",
       "      <td>https://www.sec.gov/Archives/edgar/data/891103...</td>\n",
       "    </tr>\n",
       "    <tr>\n",
       "      <th>11381</th>\n",
       "      <td>2021-09-30</td>\n",
       "      <td>2021-09-01</td>\n",
       "      <td>17700</td>\n",
       "      <td>CERIDIAN H C M HOLDING INC</td>\n",
       "      <td>15677J10</td>\n",
       "      <td>CDAY</td>\n",
       "      <td>23546</td>\n",
       "      <td>1725057.0</td>\n",
       "      <td>2021-11-03</td>\n",
       "      <td>2021-09-30</td>\n",
       "      <td>2021-09-01</td>\n",
       "      <td>10-Q</td>\n",
       "      <td>16025097.0</td>\n",
       "      <td>1</td>\n",
       "      <td>1</td>\n",
       "      <td>https://www.sec.gov/Archives/edgar/data/000172...</td>\n",
       "      <td>https://www.sec.gov/Archives/edgar/data/172505...</td>\n",
       "    </tr>\n",
       "    <tr>\n",
       "      <th>11382</th>\n",
       "      <td>2021-09-30</td>\n",
       "      <td>2021-09-01</td>\n",
       "      <td>63467</td>\n",
       "      <td>BROWN &amp; BROWN INC</td>\n",
       "      <td>11523610</td>\n",
       "      <td>BRO</td>\n",
       "      <td>15417</td>\n",
       "      <td>79282.0</td>\n",
       "      <td>2021-10-26</td>\n",
       "      <td>2021-09-30</td>\n",
       "      <td>2021-09-01</td>\n",
       "      <td>10-Q</td>\n",
       "      <td>18547154.0</td>\n",
       "      <td>1</td>\n",
       "      <td>1</td>\n",
       "      <td>https://www.sec.gov/Archives/edgar/data/000007...</td>\n",
       "      <td>https://www.sec.gov/Archives/edgar/data/79282/...</td>\n",
       "    </tr>\n",
       "  </tbody>\n",
       "</table>\n",
       "<p>5254 rows × 17 columns</p>\n",
       "</div>"
      ],
      "text/plain": [
       "            date      date2  permno                      comnam    ncusip  \\\n",
       "13    2019-06-30 2019-06-01   60986           NEWELL BRANDS INC  65122910   \n",
       "14    2019-09-30 2019-09-01   60986           NEWELL BRANDS INC  65122910   \n",
       "15    2019-12-31 2019-12-01   60986           NEWELL BRANDS INC  65122910   \n",
       "16    2020-03-31 2020-03-01   60986           NEWELL BRANDS INC  65122910   \n",
       "17    2020-06-30 2020-06-01   60986           NEWELL BRANDS INC  65122910   \n",
       "...          ...        ...     ...                         ...       ...   \n",
       "11378 2021-09-30 2021-09-01   18312                 MODERNA INC  60770K10   \n",
       "11379 2021-09-30 2021-09-01   75694             BIO TECHNE CORP  09073M10   \n",
       "11380 2021-09-30 2021-09-01   15850         MATCH GROUP INC NEW  57667L10   \n",
       "11381 2021-09-30 2021-09-01   17700  CERIDIAN H C M HOLDING INC  15677J10   \n",
       "11382 2021-09-30 2021-09-01   63467           BROWN & BROWN INC  11523610   \n",
       "\n",
       "      ticker  gvkey        cik filingDate reportDate reportDate2  form  \\\n",
       "13       NWL   7875   814453.0 2019-08-02 2019-06-30  2019-06-01  10-Q   \n",
       "14       NWL   7875   814453.0 2019-11-04 2019-09-30  2019-09-01  10-Q   \n",
       "15       NWL   7875   814453.0 2020-03-02 2019-12-31  2019-12-01  10-K   \n",
       "16       NWL   7875   814453.0 2020-05-01 2020-03-31  2020-03-01  10-Q   \n",
       "17       NWL   7875   814453.0 2020-08-05 2020-06-30  2020-06-01  10-Q   \n",
       "...      ...    ...        ...        ...        ...         ...   ...   \n",
       "11378   MRNA  34410  1682852.0 2021-11-04 2021-09-30  2021-09-01  10-Q   \n",
       "11379   TECH  15414   842023.0 2021-11-08 2021-09-30  2021-09-01  10-Q   \n",
       "11380   MTCH  26061   891103.0 2021-11-08 2021-09-30  2021-09-01  10-Q   \n",
       "11381   CDAY  23546  1725057.0 2021-11-03 2021-09-30  2021-09-01  10-Q   \n",
       "11382    BRO  15417    79282.0 2021-10-26 2021-09-30  2021-09-01  10-Q   \n",
       "\n",
       "             size  isXBRL  isInlineXBRL  \\\n",
       "13     13648560.0       1             1   \n",
       "14     15635801.0       1             1   \n",
       "15     23975396.0       1             1   \n",
       "16     12722353.0       1             1   \n",
       "17     15051393.0       1             1   \n",
       "...           ...     ...           ...   \n",
       "11378  11653425.0       1             1   \n",
       "11379   6578134.0       1             1   \n",
       "11380  11005811.0       1             1   \n",
       "11381  16025097.0       1             1   \n",
       "11382  18547154.0       1             1   \n",
       "\n",
       "                                                     url  \\\n",
       "13     https://www.sec.gov/Archives/edgar/data/000081...   \n",
       "14     https://www.sec.gov/Archives/edgar/data/000081...   \n",
       "15     https://www.sec.gov/Archives/edgar/data/000081...   \n",
       "16     https://www.sec.gov/Archives/edgar/data/000081...   \n",
       "17     https://www.sec.gov/Archives/edgar/data/000081...   \n",
       "...                                                  ...   \n",
       "11378  https://www.sec.gov/Archives/edgar/data/000168...   \n",
       "11379  https://www.sec.gov/Archives/edgar/data/000084...   \n",
       "11380  https://www.sec.gov/Archives/edgar/data/000089...   \n",
       "11381  https://www.sec.gov/Archives/edgar/data/000172...   \n",
       "11382  https://www.sec.gov/Archives/edgar/data/000007...   \n",
       "\n",
       "                                                 url_txt  \n",
       "13     https://www.sec.gov/Archives/edgar/data/814453...  \n",
       "14     https://www.sec.gov/Archives/edgar/data/814453...  \n",
       "15     https://www.sec.gov/Archives/edgar/data/814453...  \n",
       "16     https://www.sec.gov/Archives/edgar/data/814453...  \n",
       "17     https://www.sec.gov/Archives/edgar/data/814453...  \n",
       "...                                                  ...  \n",
       "11378  https://www.sec.gov/Archives/edgar/data/168285...  \n",
       "11379  https://www.sec.gov/Archives/edgar/data/842023...  \n",
       "11380  https://www.sec.gov/Archives/edgar/data/891103...  \n",
       "11381  https://www.sec.gov/Archives/edgar/data/172505...  \n",
       "11382  https://www.sec.gov/Archives/edgar/data/79282/...  \n",
       "\n",
       "[5254 rows x 17 columns]"
      ]
     },
     "execution_count": 4,
     "metadata": {},
     "output_type": "execute_result"
    }
   ],
   "source": [
    "finalUrls[(finalUrls.isInlineXBRL == 1) & ((finalUrls.isXBRL == 1))] # lots of spaces, dates, etc.\n",
    "#finalUrls[(finalUrls.isInlineXBRL == 1) & ((finalUrls.isXBRL == 0))] #nothing\n",
    "#finalUrls[(finalUrls.isInlineXBRL == 0) & ((finalUrls.isXBRL == 1))] #we are good here\n",
    "#finalUrls[(finalUrls.isInlineXBRL == 0) & ((finalUrls.isXBRL == 0))] #we are good"
   ]
  },
  {
   "cell_type": "code",
   "execution_count": 5,
   "id": "fcbff48f",
   "metadata": {
    "scrolled": true
   },
   "outputs": [
    {
     "name": "stderr",
     "output_type": "stream",
     "text": [
      "  1%|▍                                                                             | 15/2597 [00:21<1:05:13,  1.52s/it]"
     ]
    },
    {
     "name": "stdout",
     "output_type": "stream",
     "text": [
      "8800\n"
     ]
    },
    {
     "name": "stderr",
     "output_type": "stream",
     "text": [
      "  4%|███▍                                                                           | 115/2597 [03:06<34:39,  1.19it/s]"
     ]
    },
    {
     "name": "stdout",
     "output_type": "stream",
     "text": [
      "8900\n"
     ]
    },
    {
     "name": "stderr",
     "output_type": "stream",
     "text": [
      "  8%|██████▌                                                                        | 215/2597 [05:08<43:56,  1.11s/it]"
     ]
    },
    {
     "name": "stdout",
     "output_type": "stream",
     "text": [
      "9000\n"
     ]
    },
    {
     "name": "stderr",
     "output_type": "stream",
     "text": [
      " 12%|█████████▌                                                                     | 315/2597 [07:11<50:47,  1.34s/it]"
     ]
    },
    {
     "name": "stdout",
     "output_type": "stream",
     "text": [
      "9100\n"
     ]
    },
    {
     "name": "stderr",
     "output_type": "stream",
     "text": [
      " 16%|████████████▌                                                                  | 415/2597 [09:20<49:15,  1.35s/it]"
     ]
    },
    {
     "name": "stdout",
     "output_type": "stream",
     "text": [
      "9200\n"
     ]
    },
    {
     "name": "stderr",
     "output_type": "stream",
     "text": [
      " 20%|███████████████▋                                                               | 515/2597 [12:45<39:26,  1.14s/it]"
     ]
    },
    {
     "name": "stdout",
     "output_type": "stream",
     "text": [
      "9300\n"
     ]
    },
    {
     "name": "stderr",
     "output_type": "stream",
     "text": [
      " 24%|██████████████████▏                                                          | 615/2597 [15:11<1:37:21,  2.95s/it]"
     ]
    },
    {
     "name": "stdout",
     "output_type": "stream",
     "text": [
      "9400\n"
     ]
    },
    {
     "name": "stderr",
     "output_type": "stream",
     "text": [
      " 28%|█████████████████████▊                                                         | 715/2597 [22:37<29:18,  1.07it/s]"
     ]
    },
    {
     "name": "stdout",
     "output_type": "stream",
     "text": [
      "9500\n"
     ]
    },
    {
     "name": "stderr",
     "output_type": "stream",
     "text": [
      " 31%|████████████████████████▊                                                      | 815/2597 [24:58<45:59,  1.55s/it]"
     ]
    },
    {
     "name": "stdout",
     "output_type": "stream",
     "text": [
      "9600\n"
     ]
    },
    {
     "name": "stderr",
     "output_type": "stream",
     "text": [
      " 35%|███████████████████████████▊                                                   | 915/2597 [27:37<38:52,  1.39s/it]"
     ]
    },
    {
     "name": "stdout",
     "output_type": "stream",
     "text": [
      "9700\n"
     ]
    },
    {
     "name": "stderr",
     "output_type": "stream",
     "text": [
      " 39%|█████████████████████████████▋                                              | 1015/2597 [30:51<2:35:38,  5.90s/it]"
     ]
    },
    {
     "name": "stdout",
     "output_type": "stream",
     "text": [
      "9800\n"
     ]
    },
    {
     "name": "stderr",
     "output_type": "stream",
     "text": [
      " 43%|█████████████████████████████████▍                                            | 1115/2597 [34:11<32:45,  1.33s/it]"
     ]
    },
    {
     "name": "stdout",
     "output_type": "stream",
     "text": [
      "9900\n"
     ]
    },
    {
     "name": "stderr",
     "output_type": "stream",
     "text": [
      " 47%|████████████████████████████████████▍                                         | 1215/2597 [36:41<23:55,  1.04s/it]"
     ]
    },
    {
     "name": "stdout",
     "output_type": "stream",
     "text": [
      "10000\n"
     ]
    },
    {
     "name": "stderr",
     "output_type": "stream",
     "text": [
      " 51%|███████████████████████████████████████▍                                      | 1315/2597 [40:22<30:19,  1.42s/it]"
     ]
    },
    {
     "name": "stdout",
     "output_type": "stream",
     "text": [
      "10100\n"
     ]
    },
    {
     "name": "stderr",
     "output_type": "stream",
     "text": [
      " 54%|██████████████████████████████████████████▍                                   | 1415/2597 [42:50<34:02,  1.73s/it]"
     ]
    },
    {
     "name": "stdout",
     "output_type": "stream",
     "text": [
      "10200\n"
     ]
    },
    {
     "name": "stderr",
     "output_type": "stream",
     "text": [
      " 58%|█████████████████████████████████████████████▌                                | 1515/2597 [45:53<20:32,  1.14s/it]"
     ]
    },
    {
     "name": "stdout",
     "output_type": "stream",
     "text": [
      "10300\n"
     ]
    },
    {
     "name": "stderr",
     "output_type": "stream",
     "text": [
      " 62%|████████████████████████████████████████████████▌                             | 1615/2597 [51:40<55:10,  3.37s/it]"
     ]
    },
    {
     "name": "stdout",
     "output_type": "stream",
     "text": [
      "10400\n"
     ]
    },
    {
     "name": "stderr",
     "output_type": "stream",
     "text": [
      " 66%|███████████████████████████████████████████████████▌                          | 1715/2597 [57:03<17:52,  1.22s/it]"
     ]
    },
    {
     "name": "stdout",
     "output_type": "stream",
     "text": [
      "10500\n"
     ]
    },
    {
     "name": "stderr",
     "output_type": "stream",
     "text": [
      " 70%|█████████████████████████████████████████████████████                       | 1815/2597 [1:06:25<13:47,  1.06s/it]"
     ]
    },
    {
     "name": "stdout",
     "output_type": "stream",
     "text": [
      "10600\n"
     ]
    },
    {
     "name": "stderr",
     "output_type": "stream",
     "text": [
      " 74%|████████████████████████████████████████████████████████                    | 1915/2597 [1:08:37<11:56,  1.05s/it]"
     ]
    },
    {
     "name": "stdout",
     "output_type": "stream",
     "text": [
      "10700\n"
     ]
    },
    {
     "name": "stderr",
     "output_type": "stream",
     "text": [
      " 78%|██████████████████████████████████████████████████████████▉                 | 2015/2597 [1:12:11<10:57,  1.13s/it]"
     ]
    },
    {
     "name": "stdout",
     "output_type": "stream",
     "text": [
      "10800\n"
     ]
    },
    {
     "name": "stderr",
     "output_type": "stream",
     "text": [
      " 81%|█████████████████████████████████████████████████████████████▉              | 2115/2597 [1:14:51<10:25,  1.30s/it]"
     ]
    },
    {
     "name": "stdout",
     "output_type": "stream",
     "text": [
      "10900\n"
     ]
    },
    {
     "name": "stderr",
     "output_type": "stream",
     "text": [
      " 85%|████████████████████████████████████████████████████████████████▊           | 2215/2597 [1:18:05<09:04,  1.43s/it]"
     ]
    },
    {
     "name": "stdout",
     "output_type": "stream",
     "text": [
      "11000\n"
     ]
    },
    {
     "name": "stderr",
     "output_type": "stream",
     "text": [
      " 89%|███████████████████████████████████████████████████████████████████▋        | 2315/2597 [1:20:39<03:59,  1.18it/s]"
     ]
    },
    {
     "name": "stdout",
     "output_type": "stream",
     "text": [
      "11100\n"
     ]
    },
    {
     "name": "stderr",
     "output_type": "stream",
     "text": [
      " 93%|██████████████████████████████████████████████████████████████████████▋     | 2415/2597 [1:23:36<09:00,  2.97s/it]"
     ]
    },
    {
     "name": "stdout",
     "output_type": "stream",
     "text": [
      "11200\n"
     ]
    },
    {
     "name": "stderr",
     "output_type": "stream",
     "text": [
      " 97%|█████████████████████████████████████████████████████████████████████████▌  | 2515/2597 [1:25:09<01:13,  1.11it/s]"
     ]
    },
    {
     "name": "stdout",
     "output_type": "stream",
     "text": [
      "11300\n"
     ]
    },
    {
     "name": "stderr",
     "output_type": "stream",
     "text": [
      "100%|████████████████████████████████████████████████████████████████████████████| 2597/2597 [1:28:23<00:00,  2.04s/it]\n"
     ]
    }
   ],
   "source": [
    "#Define user agent and headers\n",
    "user_agent = 'jdjp_97@hotmail.com'\n",
    "headers = {'User-Agent':user_agent} \n",
    "\n",
    "#Get the url\n",
    "directory = './Forms/'\n",
    "directoryRaw = './RawForms/'\n",
    "\n",
    "for idx in tqdm(range(8786, finalUrls.shape[0])):\n",
    "    #print(url)\n",
    "    url = finalUrls.iloc[idx, -2]\n",
    "    filingDate = str(finalUrls.iloc[idx, 8]).split(' ')[0]\n",
    "    isInlineXBRL = finalUrls.iloc[idx, -3]\n",
    "    cik = str(int(finalUrls.iloc[idx, 7])).zfill(10)\n",
    "    \n",
    "    strToSave = directory + cik + '_' + filingDate + '.txt'\n",
    "    strToSaveRaw = directoryRaw + cik + '_' + filingDate + '.txt'\n",
    "\n",
    "    #Do the request and retrieve the text\n",
    "    request = requests.get(url, headers = headers)\n",
    "    form = request.text \n",
    "    \n",
    "    with open(strToSaveRaw, 'w', encoding=\"utf-8\") as file:\n",
    "        file.write(form)\n",
    "    \n",
    "    \n",
    "    #if isInlineXBRL: print(form[0:1000])\n",
    "\n",
    "   \n",
    "    soup = BeautifulSoup(form, 'html.parser')\n",
    "    \n",
    "    #inlineXBRL files, we delete the first div (XBRL format)\n",
    "    if (isInlineXBRL == 1):\n",
    "        toExtract = soup.find('div', style = 'display:none')\n",
    "        if toExtract is not None:\n",
    "            toExtract.extract()\n",
    "            \n",
    "     #Remove every table with more than 25% of number characters\n",
    "    \n",
    "    for table in soup.find_all(\"table\"):\n",
    "        textTable = unidecode.unidecode( table.get_text() )\n",
    "        num = len(''.join(re.findall(r'[0-9]', textTable)))\n",
    "        den = len(textTable) - len(''.join(re.findall(' +', textTable)))\n",
    "        if den == 0:\n",
    "            table.extract()\n",
    "        else:\n",
    "            prop = num/den\n",
    "            if prop > 0.25:\n",
    "                table.extract()\n",
    "        \n",
    "        \n",
    "\n",
    "    '''\n",
    "    #Get the text, but depending on the format\n",
    "    if (isInlineXBRL == 1):\n",
    "        lengthOfFirstComponent = len(soup.get_text().split(' ')[0])\n",
    "        if (lengthOfFirstComponent > 10000):\n",
    "            print(soup.get_text().split(' ')[0])\n",
    "            form = ' '.join( soup.get_text().split(' ')[1:]).strip().lower()\n",
    "        else:\n",
    "            form = unidecode.unidecode( soup.get_text() ).strip().lower()\n",
    "    else:\n",
    "        form = unidecode.unidecode( soup.get_text() ).strip().lower()\n",
    "    '''\n",
    "    #decoding (\\xa0)\n",
    "    form = unidecode.unidecode( soup.get_text() ).strip().lower()\n",
    "    \n",
    "    #Remove numbers\n",
    "    form_no_numbers = re.sub(r'\\d', ' ', form)\n",
    "    \n",
    "    #Remove the words table of contents and htm\n",
    "    form_no_numbers = form_no_numbers.replace('table of contents', ' ')\n",
    "    form_no_numbers = form_no_numbers.replace('htm', ' ')\n",
    "    \n",
    "\n",
    "    #Remove punctuation and replace for a single space\n",
    "    form_no_punctuation = re.sub(r'[^\\w\\s]', ' ', form_no_numbers)\n",
    "    \n",
    "    #Remove words with one character\n",
    "    form_no_single_char = re.sub(r\"\\b[a-zA-Z]\\b\", \" \", form_no_punctuation)\n",
    "    \n",
    "    #Remove when there is more than one space\n",
    "    form_no_double_spaces = re.sub(r\"[\\n]+\", \" \", form_no_single_char)\n",
    "    form_no_double_spaces = re.sub(' +', ' ', form_no_double_spaces).strip()\n",
    "\n",
    "    \n",
    "\n",
    "    #print(isInlineXBRL)\n",
    "    #print(form_no_double_spaces[0:1000])\n",
    "    #print()\n",
    "\n",
    "    with open(strToSave, 'w', encoding=\"utf-8\") as file:\n",
    "        file.write(form_no_double_spaces)\n",
    "\n",
    "    if (idx % 100 == 0) & (idx != 0):\n",
    "        print(idx)\n",
    "\n",
    "\n",
    " "
   ]
  },
  {
   "cell_type": "code",
   "execution_count": 6,
   "id": "b92ff99a",
   "metadata": {},
   "outputs": [],
   "source": [
    "soup.find('div', style = 'display:none')"
   ]
  },
  {
   "cell_type": "markdown",
   "id": "800a012d",
   "metadata": {},
   "source": [
    "# This is not neccesary when getting the html\n",
    "\n",
    "# Regex to find <DOCUMENT> tags\n",
    "doc_start_pattern = re.compile(r'<DOCUMENT>')\n",
    "doc_end_pattern = re.compile(r'</DOCUMENT>')\n",
    "# Regex to find <TYPE> tag prceeding any characters, terminating at new line\n",
    "type_pattern = re.compile(r'<TYPE>[^\\n]+')\n",
    "\n",
    "# Create 3 lists with the span idices for each regex\n",
    "\n",
    "### There are many <Document> Tags in this text file, each as specific exhibit like 10-K, EX-10.17 etc\n",
    "### First filter will give us document tag start <end> and document tag end's <start> \n",
    "### We will use this to later grab content in between these tags\n",
    "doc_start_is = [x.end() for x in doc_start_pattern.finditer(raw_10k)]\n",
    "doc_end_is = [x.start() for x in doc_end_pattern.finditer(raw_10k)]\n",
    "\n",
    "### Type filter is interesting, it looks for <TYPE> with Not flag as new line, ie terminare there, with + sign\n",
    "### to look for any char afterwards until new line \\n. This will give us <TYPE> followed Section Name like '10-K'\n",
    "### Once we have have this, it returns String Array, below line will with find content after <TYPE> ie, '10-K' \n",
    "### as section names\n",
    "doc_types = [x[len('<TYPE>'):] for x in type_pattern.findall(raw_10k)]\n",
    "\n",
    "document = {}\n",
    "# Create a loop to go through each section type and save only the 10-K section in the dictionary\n",
    "for doc_type, doc_start, doc_end in zip(doc_types, doc_start_is, doc_end_is):\n",
    "    if doc_type in ['10-Q', '10-K']:\n",
    "        document[doc_type] = raw_10k[doc_start:doc_end]"
   ]
  },
  {
   "cell_type": "markdown",
   "id": "9a5e4e0e",
   "metadata": {},
   "source": [
    "url = finalUrls[(finalUrls.cik == 98246) & ((finalUrls.filingDate == '2020-08-27'))].iloc[0, -2]\n",
    "request = requests.get(url, headers = headers)\n",
    "form = request.text "
   ]
  },
  {
   "cell_type": "markdown",
   "id": "79755801",
   "metadata": {},
   "source": [
    "#Remove every table\n",
    "soup = BeautifulSoup(form, 'html.parser')\n"
   ]
  },
  {
   "cell_type": "markdown",
   "id": "2df8d555",
   "metadata": {},
   "source": [
    "soup.find('div', style = 'display:none').extract()\n",
    "for table in soup.find_all(\"table\"):\n",
    "    textTable = unidecode.unidecode( table.get_text() )\n",
    "    num = len(''.join(re.findall(r'[0-9]', textTable)))\n",
    "    den = len(textTable) - len(''.join(re.findall(' +', textTable)))\n",
    "    if den == 0:\n",
    "        table.extract()\n",
    "    else:\n",
    "        prop = num/den\n",
    "        if prop > 0.25:\n",
    "            table.extract()"
   ]
  },
  {
   "cell_type": "code",
   "execution_count": null,
   "id": "02af1122",
   "metadata": {},
   "outputs": [],
   "source": []
  }
 ],
 "metadata": {
  "kernelspec": {
   "display_name": "Python 3 (ipykernel)",
   "language": "python",
   "name": "python3"
  },
  "language_info": {
   "codemirror_mode": {
    "name": "ipython",
    "version": 3
   },
   "file_extension": ".py",
   "mimetype": "text/x-python",
   "name": "python",
   "nbconvert_exporter": "python",
   "pygments_lexer": "ipython3",
   "version": "3.8.8"
  }
 },
 "nbformat": 4,
 "nbformat_minor": 5
}
