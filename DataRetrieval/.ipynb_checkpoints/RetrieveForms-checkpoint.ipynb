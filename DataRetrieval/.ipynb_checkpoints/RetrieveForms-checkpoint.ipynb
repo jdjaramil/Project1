{
 "cells": [
  {
   "cell_type": "markdown",
   "id": "ffc11883",
   "metadata": {},
   "source": [
    "# Import libraries"
   ]
  },
  {
   "cell_type": "code",
   "execution_count": 11,
   "id": "1e6dfbd6",
   "metadata": {},
   "outputs": [],
   "source": [
    "import requests\n",
    "from bs4 import BeautifulSoup\n",
    "import Selenium\n",
    "import pandas as pd"
   ]
  },
  {
   "cell_type": "markdown",
   "id": "76c34c78",
   "metadata": {},
   "source": [
    "# Get the tickers of the SP500 "
   ]
  },
  {
   "cell_type": "code",
   "execution_count": 30,
   "id": "993bd44e",
   "metadata": {},
   "outputs": [
    {
     "name": "stdout",
     "output_type": "stream",
     "text": [
      "Number of Stocks in SP500: 503\n",
      "First 5 in list: ['MMM', 'AOS', 'ABT', 'ABBV', 'ABMD']\n"
     ]
    }
   ],
   "source": [
    "URL = 'https://en.wikipedia.org/wiki/List_of_S%26P_500_companies'\n",
    "tickers = pd.read_html(URL)[0]\n",
    "listTickers = list( tickers['Symbol'].values )\n",
    "\n",
    "print('Number of Stocks in SP500:', len(listTickers))\n",
    "print('First 5 in list:', listTickers[0:5])"
   ]
  },
  {
   "cell_type": "markdown",
   "id": "09e8e621",
   "metadata": {},
   "source": [
    "# Loop through the tickers, getting the data on the SEC edgar database"
   ]
  },
  {
   "cell_type": "code",
   "execution_count": 41,
   "id": "8239db01",
   "metadata": {},
   "outputs": [],
   "source": [
    "def constructURL(ticker):\n",
    "    URL = 'https://www.sec.gov/edgar/search/#/dateRange=custom&category=custom&entityName={}&startdt=2011-01-01&enddt=2021-12-31&forms=10-Q'.format(ticker)\n",
    "    \n",
    "    return URL"
   ]
  },
  {
   "cell_type": "code",
   "execution_count": 52,
   "id": "d17870d3",
   "metadata": {},
   "outputs": [],
   "source": [
    "URL = constructURL(listTickers[1])\n",
    "tableSEC = pd.read_html(URL)"
   ]
  },
  {
   "cell_type": "code",
   "execution_count": 56,
   "id": "64ef60d9",
   "metadata": {},
   "outputs": [
    {
     "ename": "ModuleNotFoundError",
     "evalue": "No module named 'Selenium'",
     "output_type": "error",
     "traceback": [
      "\u001b[1;31m---------------------------------------------------------------------------\u001b[0m",
      "\u001b[1;31mModuleNotFoundError\u001b[0m                       Traceback (most recent call last)",
      "\u001b[1;32m~\\AppData\\Local\\Temp\\ipykernel_23036\\1204062190.py\u001b[0m in \u001b[0;36m<module>\u001b[1;34m\u001b[0m\n\u001b[1;32m----> 1\u001b[1;33m \u001b[1;32mimport\u001b[0m \u001b[0mSelenium\u001b[0m\u001b[1;33m\u001b[0m\u001b[1;33m\u001b[0m\u001b[0m\n\u001b[0m",
      "\u001b[1;31mModuleNotFoundError\u001b[0m: No module named 'Selenium'"
     ]
    }
   ],
   "source": []
  },
  {
   "cell_type": "code",
   "execution_count": null,
   "id": "58513494",
   "metadata": {},
   "outputs": [],
   "source": []
  }
 ],
 "metadata": {
  "kernelspec": {
   "display_name": "Python 3 (ipykernel)",
   "language": "python",
   "name": "python3"
  },
  "language_info": {
   "codemirror_mode": {
    "name": "ipython",
    "version": 3
   },
   "file_extension": ".py",
   "mimetype": "text/x-python",
   "name": "python",
   "nbconvert_exporter": "python",
   "pygments_lexer": "ipython3",
   "version": "3.8.8"
  }
 },
 "nbformat": 4,
 "nbformat_minor": 5
}
