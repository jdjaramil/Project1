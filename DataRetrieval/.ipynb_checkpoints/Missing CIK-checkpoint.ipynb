{
 "cells": [
  {
   "cell_type": "code",
   "execution_count": 46,
   "id": "392a6e89",
   "metadata": {},
   "outputs": [],
   "source": [
    "import pandas as pd\n",
    "import numpy as np"
   ]
  },
  {
   "cell_type": "code",
   "execution_count": 47,
   "id": "d03f8b67",
   "metadata": {},
   "outputs": [],
   "source": [
    "data = pd.read_csv('companyNames.csv')"
   ]
  },
  {
   "cell_type": "code",
   "execution_count": 48,
   "id": "8f0ce849",
   "metadata": {},
   "outputs": [
    {
     "data": {
      "text/plain": [
       "array(['APARTMENT INVESTMENT & MGMT CO', 'DEVRY INC DEL', 'ALCOA INC',\n",
       "       'PEABODY ENERGY CORP', 'CHESAPEAKE ENERGY CORP',\n",
       "       'JACOBS ENGINEERING GROUP INC', 'JANUS CAP GROUP INC',\n",
       "       'METROPCS COMMUNICATIONS INC', 'WISCONSIN ENERGY CORP',\n",
       "       'RADIOSHACK CORP', 'CLIFFS NATURAL RESOURCES INC',\n",
       "       'M E M C ELECTRONIC MATERIALS INC', 'OWENS ILL INC', 'NEWS CORP',\n",
       "       'WINDSTREAM CORP', 'WYNDHAM WORLDWIDE CORP', 'J D S UNIPHASE CORP',\n",
       "       'COCA COLA ENTERPRISES INC NEW', 'DISCOVERY COMMUNICATIONS INC',\n",
       "       'CONSOL ENERGY INC', 'YAHOO INC', 'DR PEPPER SNAPPLE GROUP INC',\n",
       "       'DEAN FOODS CO NEW', 'DONNELLEY R R & SONS CO',\n",
       "       'FRONTIER COMMUNICATIONS CORP', 'PENNEY J C CO INC',\n",
       "       'SARA LEE CORP', 'I T T CORP', 'NABORS INDUSTRIES LTD',\n",
       "       'SUPERVALU INC', 'E N S C O PLC NEW',\n",
       "       'TWENTY FIRST CENTURY FOX INC', 'WINDSTREAM HOLDINGS INC',\n",
       "       'GENERAL GROWTH PPTYS INC NEW', 'S L GREEN REALTY CORP',\n",
       "       'W E C ENERGY GROUP INC', 'FEDERAL REALTY INVESTMENT TRUST',\n",
       "       'G G P INC', 'DISCOVERY INC', 'HOLLYFRONTIER CORP'], dtype=object)"
      ]
     },
     "execution_count": 48,
     "metadata": {},
     "output_type": "execute_result"
    }
   ],
   "source": [
    "data['comnam'].unique()"
   ]
  },
  {
   "cell_type": "code",
   "execution_count": 49,
   "id": "8d496fca",
   "metadata": {},
   "outputs": [],
   "source": [
    "company_name_to_cik = {}"
   ]
  },
  {
   "cell_type": "code",
   "execution_count": 50,
   "id": "a9ad7a79",
   "metadata": {},
   "outputs": [],
   "source": [
    "company_name_to_cik['APARTMENT INVESTMENT & MGMT CO'] = 922864\n",
    "company_name_to_cik['ALCOA INC'] = 1675149\n",
    "company_name_to_cik['PEABODY ENERGY CORP'] = 1064728\n",
    "company_name_to_cik['CHESAPEAKE ENERGY CORP'] = 895126\n",
    "company_name_to_cik['JACOBS ENGINEERING GROUP INC'] = 52988\n",
    "company_name_to_cik['JANUS CAP GROUP INC'] = 1065865\n",
    "company_name_to_cik['METROPCS COMMUNICATIONS INC'] = 1121026\n",
    "company_name_to_cik['WISCONSIN ENERGY CORP'] = 735018\n",
    "company_name_to_cik['WISCONSIN ENERGY CORP'] = 735018\n",
    "company_name_to_cik['RADIOSHACK CORP'] = 81727\n",
    "company_name_to_cik['OWENS ILL INC'] = 861326\n",
    "company_name_to_cik['NEWS CORP'] = 1564708\n",
    "company_name_to_cik['WINDSTREAM CORP'] = 1282266\n",
    "company_name_to_cik['WYNDHAM WORLDWIDE CORP'] = 1010471\n",
    "company_name_to_cik['J D S UNIPHASE CORP'] = 1257179\n",
    "company_name_to_cik['CONSOL ENERGY INC'] = 1710366\n",
    "company_name_to_cik['YAHOO INC'] = 1426140\n",
    "company_name_to_cik['DEAN FOODS CO'] = 931336\n",
    "company_name_to_cik['DONNELLEY R R & SONS CO'] = 29669\n",
    "company_name_to_cik['FRONTIER COMMUNICATIONS CORP'] = 20520"
   ]
  },
  {
   "cell_type": "code",
   "execution_count": 51,
   "id": "6857fdfa",
   "metadata": {},
   "outputs": [],
   "source": [
    "company_name_to_cik['ALCOA INC'] = 1675149"
   ]
  },
  {
   "cell_type": "code",
   "execution_count": 52,
   "id": "32148a14",
   "metadata": {},
   "outputs": [],
   "source": [
    "company_name_to_cik['PEABODY ENERGY CORP'] = 1064728"
   ]
  },
  {
   "cell_type": "code",
   "execution_count": 53,
   "id": "2ad375c5",
   "metadata": {},
   "outputs": [],
   "source": [
    "company_name_to_cik['CHESAPEAKE ENERGY CORP'] = 895126"
   ]
  },
  {
   "cell_type": "code",
   "execution_count": 54,
   "id": "f99f04af",
   "metadata": {},
   "outputs": [],
   "source": [
    "company_name_to_cik['JACOBS ENGINEERING GROUP INC'] = 52988"
   ]
  },
  {
   "cell_type": "code",
   "execution_count": 55,
   "id": "8272f81d",
   "metadata": {},
   "outputs": [],
   "source": [
    "company_name_to_cik['JANUS CAP GROUP INC'] = 1065865"
   ]
  },
  {
   "cell_type": "code",
   "execution_count": 56,
   "id": "0292447f",
   "metadata": {},
   "outputs": [],
   "source": [
    "company_name_to_cik['METROPCS COMMUNICATIONS INC'] = 1121026"
   ]
  },
  {
   "cell_type": "code",
   "execution_count": 57,
   "id": "46354718",
   "metadata": {},
   "outputs": [],
   "source": [
    "company_name_to_cik['WISCONSIN ENERGY CORP'] = 735018"
   ]
  },
  {
   "cell_type": "code",
   "execution_count": 58,
   "id": "f32baa63",
   "metadata": {},
   "outputs": [],
   "source": [
    "company_name_to_cik['RADIOSHACK CORP'] = 81727"
   ]
  },
  {
   "cell_type": "code",
   "execution_count": 59,
   "id": "b5bd34f0",
   "metadata": {},
   "outputs": [],
   "source": [
    "company_name_to_cik['OWENS ILL INC'] = 861326"
   ]
  },
  {
   "cell_type": "code",
   "execution_count": 60,
   "id": "a2b8bd3e",
   "metadata": {},
   "outputs": [],
   "source": [
    "company_name_to_cik['NEWS CORP'] = 1564708"
   ]
  },
  {
   "cell_type": "code",
   "execution_count": 61,
   "id": "bc3c8569",
   "metadata": {},
   "outputs": [],
   "source": [
    "company_name_to_cik['WINDSTREAM CORP'] = 1282266"
   ]
  },
  {
   "cell_type": "code",
   "execution_count": 62,
   "id": "832d2e02",
   "metadata": {},
   "outputs": [],
   "source": [
    "company_name_to_cik['WYNDHAM WORLDWIDE CORP'] = 1010471"
   ]
  },
  {
   "cell_type": "code",
   "execution_count": 63,
   "id": "5f2ac116",
   "metadata": {},
   "outputs": [],
   "source": [
    "company_name_to_cik['J D S UNIPHASE CORP'] = 1257179"
   ]
  },
  {
   "cell_type": "code",
   "execution_count": 64,
   "id": "9a55d081",
   "metadata": {},
   "outputs": [],
   "source": [
    "company_name_to_cik['CONSOL ENERGY INC'] = 1710366"
   ]
  },
  {
   "cell_type": "code",
   "execution_count": 65,
   "id": "e0ac2f1c",
   "metadata": {},
   "outputs": [],
   "source": [
    "company_name_to_cik['YAHOO INC'] = 1426140"
   ]
  },
  {
   "cell_type": "code",
   "execution_count": 66,
   "id": "b16fe8ce",
   "metadata": {},
   "outputs": [],
   "source": [
    "company_name_to_cik['DEAN FOODS CO'] = 931336"
   ]
  },
  {
   "cell_type": "code",
   "execution_count": 67,
   "id": "43061256",
   "metadata": {},
   "outputs": [],
   "source": [
    "company_name_to_cik['DONNELLEY R R & SONS CO'] = 29669"
   ]
  },
  {
   "cell_type": "code",
   "execution_count": 68,
   "id": "a980a0ae",
   "metadata": {},
   "outputs": [],
   "source": [
    "company_name_to_cik['FRONTIER COMMUNICATIONS CORP'] = 20520"
   ]
  },
  {
   "cell_type": "code",
   "execution_count": 69,
   "id": "ce6a14a8",
   "metadata": {},
   "outputs": [],
   "source": [
    "company_name_to_cik['SARA LEE CORP'] = 1080839"
   ]
  },
  {
   "cell_type": "code",
   "execution_count": 70,
   "id": "6bcd104b",
   "metadata": {},
   "outputs": [],
   "source": [
    "company_name_to_cik['FRONTIER COMMUNICATIONS CORP'] = 20520"
   ]
  },
  {
   "cell_type": "code",
   "execution_count": 71,
   "id": "79f6bb58",
   "metadata": {},
   "outputs": [],
   "source": [
    "company_name_to_cik['I T T CORP'] = 216228"
   ]
  },
  {
   "cell_type": "code",
   "execution_count": 72,
   "id": "c3b6581b",
   "metadata": {},
   "outputs": [],
   "source": [
    "company_name_to_cik['NABORS INDUSTRIES LTD'] = 1163739"
   ]
  },
  {
   "cell_type": "code",
   "execution_count": 73,
   "id": "36b0640c",
   "metadata": {},
   "outputs": [],
   "source": [
    "company_name_to_cik['SUPERVALU INC'] = 95521"
   ]
  },
  {
   "cell_type": "code",
   "execution_count": 74,
   "id": "17baed92",
   "metadata": {},
   "outputs": [],
   "source": [
    "company_name_to_cik['TWENTY FIRST CENTURY FOX INC'] = 1308161"
   ]
  },
  {
   "cell_type": "code",
   "execution_count": 75,
   "id": "430f589d",
   "metadata": {},
   "outputs": [],
   "source": [
    "company_name_to_cik['WINDSTREAM HOLDINGS INC'] = 1282266"
   ]
  },
  {
   "cell_type": "code",
   "execution_count": 76,
   "id": "e527a8d3",
   "metadata": {},
   "outputs": [],
   "source": [
    "company_name_to_cik['S L GREEN REALTY CORP'] = 1040971"
   ]
  },
  {
   "cell_type": "code",
   "execution_count": 77,
   "id": "bc436013",
   "metadata": {},
   "outputs": [],
   "source": [
    "company_name_to_cik['S L GREEN REALTY CORP'] = 1040971"
   ]
  },
  {
   "cell_type": "code",
   "execution_count": 78,
   "id": "cb964186",
   "metadata": {},
   "outputs": [],
   "source": [
    "company_name_to_cik['W E C ENERGY GROUP INC']= 783325"
   ]
  },
  {
   "cell_type": "code",
   "execution_count": 79,
   "id": "f6331870",
   "metadata": {},
   "outputs": [],
   "source": [
    "company_name_to_cik['FEDERAL REALTY INVESTMENT TRUST']= 34903"
   ]
  },
  {
   "cell_type": "code",
   "execution_count": 80,
   "id": "02a3d2f2",
   "metadata": {},
   "outputs": [],
   "source": [
    "company_name_to_cik['G G P INC'] = 895648"
   ]
  },
  {
   "cell_type": "code",
   "execution_count": 81,
   "id": "2f8d1e9b",
   "metadata": {},
   "outputs": [],
   "source": [
    "company_name_to_cik['DISCOVERY INC'] = 1437107"
   ]
  },
  {
   "cell_type": "code",
   "execution_count": 82,
   "id": "550f0399",
   "metadata": {},
   "outputs": [],
   "source": [
    "company_name_to_cik['HOLLYFRONTIER CORP']= 48039"
   ]
  },
  {
   "cell_type": "code",
   "execution_count": 83,
   "id": "91cdb4ab",
   "metadata": {},
   "outputs": [
    {
     "data": {
      "text/plain": [
       "{'APARTMENT INVESTMENT & MGMT CO': 922864,\n",
       " 'ALCOA INC': 1675149,\n",
       " 'PEABODY ENERGY CORP': 1064728,\n",
       " 'CHESAPEAKE ENERGY CORP': 895126,\n",
       " 'JACOBS ENGINEERING GROUP INC': 52988,\n",
       " 'JANUS CAP GROUP INC': 1065865,\n",
       " 'METROPCS COMMUNICATIONS INC': 1121026,\n",
       " 'WISCONSIN ENERGY CORP': 735018,\n",
       " 'RADIOSHACK CORP': 81727,\n",
       " 'OWENS ILL INC': 861326,\n",
       " 'NEWS CORP': 1564708,\n",
       " 'WINDSTREAM CORP': 1282266,\n",
       " 'WYNDHAM WORLDWIDE CORP': 1010471,\n",
       " 'J D S UNIPHASE CORP': 1257179,\n",
       " 'CONSOL ENERGY INC': 1710366,\n",
       " 'YAHOO INC': 1426140,\n",
       " 'DEAN FOODS CO': 931336,\n",
       " 'DONNELLEY R R & SONS CO': 29669,\n",
       " 'FRONTIER COMMUNICATIONS CORP': 20520,\n",
       " 'SARA LEE CORP': 1080839,\n",
       " 'I T T CORP': 216228,\n",
       " 'NABORS INDUSTRIES LTD': 1163739,\n",
       " 'SUPERVALU INC': 95521,\n",
       " 'TWENTY FIRST CENTURY FOX INC': 1308161,\n",
       " 'WINDSTREAM HOLDINGS INC': 1282266,\n",
       " 'S L GREEN REALTY CORP': 1040971,\n",
       " 'W E C ENERGY GROUP INC': 783325,\n",
       " 'FEDERAL REALTY INVESTMENT TRUST': 34903,\n",
       " 'G G P INC': 895648,\n",
       " 'DISCOVERY INC': 1437107,\n",
       " 'HOLLYFRONTIER CORP': 48039}"
      ]
     },
     "execution_count": 83,
     "metadata": {},
     "output_type": "execute_result"
    }
   ],
   "source": [
    "company_name_to_cik"
   ]
  },
  {
   "cell_type": "code",
   "execution_count": null,
   "id": "37d14cb9",
   "metadata": {},
   "outputs": [],
   "source": []
  }
 ],
 "metadata": {
  "kernelspec": {
   "display_name": "Python 3 (ipykernel)",
   "language": "python",
   "name": "python3"
  },
  "language_info": {
   "codemirror_mode": {
    "name": "ipython",
    "version": 3
   },
   "file_extension": ".py",
   "mimetype": "text/x-python",
   "name": "python",
   "nbconvert_exporter": "python",
   "pygments_lexer": "ipython3",
   "version": "3.8.8"
  }
 },
 "nbformat": 4,
 "nbformat_minor": 5
}
