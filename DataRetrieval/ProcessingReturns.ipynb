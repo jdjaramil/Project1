{
 "cells": [
  {
   "cell_type": "code",
   "execution_count": 31,
   "id": "e25e7c65",
   "metadata": {},
   "outputs": [],
   "source": [
    "import pandas as pd\n",
    "import numpy as np"
   ]
  },
  {
   "cell_type": "markdown",
   "id": "c865735e",
   "metadata": {},
   "source": [
    "# Data Extraction"
   ]
  },
  {
   "cell_type": "markdown",
   "id": "0405713f",
   "metadata": {},
   "source": [
    "## Computing unique permno values and extracting price data from CRSP from 2011-01-01 to 2021-12-31\n"
   ]
  },
  {
   "cell_type": "code",
   "execution_count": 32,
   "id": "36ee9aea",
   "metadata": {},
   "outputs": [
    {
     "name": "stderr",
     "output_type": "stream",
     "text": [
      "/Users/srishti/opt/anaconda3/lib/python3.8/site-packages/IPython/core/interactiveshell.py:3165: DtypeWarning: Columns (10) have mixed types.Specify dtype option on import or set low_memory=False.\n",
      "  has_raised = await self.run_ast_nodes(code_ast.body, cell_name,\n"
     ]
    }
   ],
   "source": [
    "input_file_a1 = pd.read_csv('sp500_w_addl_id.csv')\n",
    "permno = input_file_a1['permno'].unique()"
   ]
  },
  {
   "cell_type": "code",
   "execution_count": 33,
   "id": "c0373146",
   "metadata": {},
   "outputs": [
    {
     "data": {
      "text/plain": [
       "727"
      ]
     },
     "execution_count": 33,
     "metadata": {},
     "output_type": "execute_result"
    }
   ],
   "source": [
    "len(permno)"
   ]
  },
  {
   "cell_type": "markdown",
   "id": "3cbca2ed",
   "metadata": {},
   "source": [
    "$\\implies$ There are 727 unique permnos."
   ]
  },
  {
   "cell_type": "code",
   "execution_count": 34,
   "id": "e68e85a4",
   "metadata": {},
   "outputs": [],
   "source": [
    "output_str_permno = \"\"\n",
    "for auto in permno:\n",
    "    output_str_permno += str(int(auto))+'\\n'"
   ]
  },
  {
   "cell_type": "code",
   "execution_count": 35,
   "id": "78bfb0e4",
   "metadata": {},
   "outputs": [],
   "source": [
    "with open('permno.txt', 'w') as f:\n",
    "    f.write('readme')"
   ]
  },
  {
   "cell_type": "markdown",
   "id": "08eaa476",
   "metadata": {},
   "source": [
    "## This data is used as input to the CRSP\n",
    "- The stock level data is extracted in **returns.csv** from https://wrds-www.wharton.upenn.edu/pages/get-data/center-research-security-prices-crsp/annual-update/stock-security-files/daily-stock-file/\n",
    "- SnP Returns are computed in **snp_returns.csv** from https://wrds-www.wharton.upenn.edu/pages/get-data/center-research-security-prices-crsp/annual-update/index-sp-500-indexes/index-file-on-sp-500/"
   ]
  },
  {
   "cell_type": "code",
   "execution_count": 36,
   "id": "c761ee8c",
   "metadata": {},
   "outputs": [
    {
     "name": "stderr",
     "output_type": "stream",
     "text": [
      "/Users/srishti/opt/anaconda3/lib/python3.8/site-packages/IPython/core/interactiveshell.py:3165: DtypeWarning: Columns (9) have mixed types.Specify dtype option on import or set low_memory=False.\n",
      "  has_raised = await self.run_ast_nodes(code_ast.body, cell_name,\n",
      "/Users/srishti/opt/anaconda3/lib/python3.8/site-packages/IPython/core/interactiveshell.py:3165: DtypeWarning: Columns (3,9) have mixed types.Specify dtype option on import or set low_memory=False.\n",
      "  has_raised = await self.run_ast_nodes(code_ast.body, cell_name,\n"
     ]
    }
   ],
   "source": [
    "urls = pd.read_csv('finalURLs.csv', parse_dates = ['filingDate'])\n",
    "stockreturns = pd.read_csv('returns.csv', parse_dates = ['date'])\n",
    "snp = pd.read_csv('snp_returns.csv', parse_dates = ['caldt'])"
   ]
  },
  {
   "cell_type": "code",
   "execution_count": 37,
   "id": "0c31a9c0",
   "metadata": {},
   "outputs": [
    {
     "data": {
      "text/html": [
       "<div>\n",
       "<style scoped>\n",
       "    .dataframe tbody tr th:only-of-type {\n",
       "        vertical-align: middle;\n",
       "    }\n",
       "\n",
       "    .dataframe tbody tr th {\n",
       "        vertical-align: top;\n",
       "    }\n",
       "\n",
       "    .dataframe thead th {\n",
       "        text-align: right;\n",
       "    }\n",
       "</style>\n",
       "<table border=\"1\" class=\"dataframe\">\n",
       "  <thead>\n",
       "    <tr style=\"text-align: right;\">\n",
       "      <th></th>\n",
       "      <th>vwretd</th>\n",
       "      <th>vwretx</th>\n",
       "      <th>ewretd</th>\n",
       "      <th>ewretx</th>\n",
       "      <th>sprtrn</th>\n",
       "    </tr>\n",
       "  </thead>\n",
       "  <tbody>\n",
       "    <tr>\n",
       "      <th>count</th>\n",
       "      <td>2769.000000</td>\n",
       "      <td>2769.000000</td>\n",
       "      <td>2769.000000</td>\n",
       "      <td>2769.000000</td>\n",
       "      <td>2769.000000</td>\n",
       "    </tr>\n",
       "    <tr>\n",
       "      <th>mean</th>\n",
       "      <td>0.000618</td>\n",
       "      <td>0.000537</td>\n",
       "      <td>0.000607</td>\n",
       "      <td>0.000527</td>\n",
       "      <td>0.000540</td>\n",
       "    </tr>\n",
       "    <tr>\n",
       "      <th>std</th>\n",
       "      <td>0.010744</td>\n",
       "      <td>0.010742</td>\n",
       "      <td>0.011746</td>\n",
       "      <td>0.011744</td>\n",
       "      <td>0.010769</td>\n",
       "    </tr>\n",
       "    <tr>\n",
       "      <th>min</th>\n",
       "      <td>-0.118970</td>\n",
       "      <td>-0.119008</td>\n",
       "      <td>-0.126864</td>\n",
       "      <td>-0.126960</td>\n",
       "      <td>-0.119841</td>\n",
       "    </tr>\n",
       "    <tr>\n",
       "      <th>25%</th>\n",
       "      <td>-0.003295</td>\n",
       "      <td>-0.003353</td>\n",
       "      <td>-0.003944</td>\n",
       "      <td>-0.004050</td>\n",
       "      <td>-0.003379</td>\n",
       "    </tr>\n",
       "    <tr>\n",
       "      <th>50%</th>\n",
       "      <td>0.000778</td>\n",
       "      <td>0.000701</td>\n",
       "      <td>0.000902</td>\n",
       "      <td>0.000799</td>\n",
       "      <td>0.000703</td>\n",
       "    </tr>\n",
       "    <tr>\n",
       "      <th>75%</th>\n",
       "      <td>0.005421</td>\n",
       "      <td>0.005337</td>\n",
       "      <td>0.006066</td>\n",
       "      <td>0.005978</td>\n",
       "      <td>0.005363</td>\n",
       "    </tr>\n",
       "    <tr>\n",
       "      <th>max</th>\n",
       "      <td>0.093205</td>\n",
       "      <td>0.092870</td>\n",
       "      <td>0.117414</td>\n",
       "      <td>0.117279</td>\n",
       "      <td>0.093828</td>\n",
       "    </tr>\n",
       "  </tbody>\n",
       "</table>\n",
       "</div>"
      ],
      "text/plain": [
       "            vwretd       vwretx       ewretd       ewretx       sprtrn\n",
       "count  2769.000000  2769.000000  2769.000000  2769.000000  2769.000000\n",
       "mean      0.000618     0.000537     0.000607     0.000527     0.000540\n",
       "std       0.010744     0.010742     0.011746     0.011744     0.010769\n",
       "min      -0.118970    -0.119008    -0.126864    -0.126960    -0.119841\n",
       "25%      -0.003295    -0.003353    -0.003944    -0.004050    -0.003379\n",
       "50%       0.000778     0.000701     0.000902     0.000799     0.000703\n",
       "75%       0.005421     0.005337     0.006066     0.005978     0.005363\n",
       "max       0.093205     0.092870     0.117414     0.117279     0.093828"
      ]
     },
     "execution_count": 37,
     "metadata": {},
     "output_type": "execute_result"
    }
   ],
   "source": [
    "snp.describe()"
   ]
  },
  {
   "cell_type": "code",
   "execution_count": 38,
   "id": "fa4c927b",
   "metadata": {},
   "outputs": [
    {
     "name": "stdout",
     "output_type": "stream",
     "text": [
      "<class 'pandas.core.frame.DataFrame'>\n",
      "RangeIndex: 2769 entries, 0 to 2768\n",
      "Data columns (total 6 columns):\n",
      " #   Column  Non-Null Count  Dtype         \n",
      "---  ------  --------------  -----         \n",
      " 0   caldt   2769 non-null   datetime64[ns]\n",
      " 1   vwretd  2769 non-null   float64       \n",
      " 2   vwretx  2769 non-null   float64       \n",
      " 3   ewretd  2769 non-null   float64       \n",
      " 4   ewretx  2769 non-null   float64       \n",
      " 5   sprtrn  2769 non-null   float64       \n",
      "dtypes: datetime64[ns](1), float64(5)\n",
      "memory usage: 129.9 KB\n"
     ]
    }
   ],
   "source": [
    "snp.info()"
   ]
  },
  {
   "cell_type": "code",
   "execution_count": 39,
   "id": "ee0e1f17",
   "metadata": {},
   "outputs": [
    {
     "name": "stdout",
     "output_type": "stream",
     "text": [
      "<class 'pandas.core.frame.DataFrame'>\n",
      "RangeIndex: 1750818 entries, 0 to 1750817\n",
      "Data columns (total 16 columns):\n",
      " #   Column    Dtype         \n",
      "---  ------    -----         \n",
      " 0   PERMNO    int64         \n",
      " 1   date      datetime64[ns]\n",
      " 2   EXCHCD    int64         \n",
      " 3   NCUSIP    object        \n",
      " 4   TICKER    object        \n",
      " 5   COMNAM    object        \n",
      " 6   PRIMEXCH  object        \n",
      " 7   TRDSTAT   object        \n",
      " 8   PERMCO    int64         \n",
      " 9   CUSIP     object        \n",
      " 10  RCRDDT    object        \n",
      " 11  NWPERM    float64       \n",
      " 12  PRC       float64       \n",
      " 13  VOL       float64       \n",
      " 14  CFACPR    float64       \n",
      " 15  OPENPRC   float64       \n",
      "dtypes: datetime64[ns](1), float64(5), int64(3), object(7)\n",
      "memory usage: 213.7+ MB\n"
     ]
    }
   ],
   "source": [
    "stockreturns.info()"
   ]
  },
  {
   "cell_type": "code",
   "execution_count": 40,
   "id": "5752dc7d",
   "metadata": {},
   "outputs": [
    {
     "data": {
      "text/plain": [
       "727"
      ]
     },
     "execution_count": 40,
     "metadata": {},
     "output_type": "execute_result"
    }
   ],
   "source": [
    "stockreturns['PERMNO'].nunique()"
   ]
  },
  {
   "cell_type": "markdown",
   "id": "7e65b6cf",
   "metadata": {},
   "source": [
    "-- Same number of permno"
   ]
  },
  {
   "cell_type": "code",
   "execution_count": 41,
   "id": "594000e7",
   "metadata": {},
   "outputs": [
    {
     "data": {
      "text/html": [
       "<div>\n",
       "<style scoped>\n",
       "    .dataframe tbody tr th:only-of-type {\n",
       "        vertical-align: middle;\n",
       "    }\n",
       "\n",
       "    .dataframe tbody tr th {\n",
       "        vertical-align: top;\n",
       "    }\n",
       "\n",
       "    .dataframe thead th {\n",
       "        text-align: right;\n",
       "    }\n",
       "</style>\n",
       "<table border=\"1\" class=\"dataframe\">\n",
       "  <thead>\n",
       "    <tr style=\"text-align: right;\">\n",
       "      <th></th>\n",
       "      <th>PERMNO</th>\n",
       "      <th>EXCHCD</th>\n",
       "      <th>PERMCO</th>\n",
       "      <th>NWPERM</th>\n",
       "      <th>PRC</th>\n",
       "      <th>VOL</th>\n",
       "      <th>CFACPR</th>\n",
       "      <th>OPENPRC</th>\n",
       "    </tr>\n",
       "  </thead>\n",
       "  <tbody>\n",
       "    <tr>\n",
       "      <th>count</th>\n",
       "      <td>1.750818e+06</td>\n",
       "      <td>1.750818e+06</td>\n",
       "      <td>1.750818e+06</td>\n",
       "      <td>152.000000</td>\n",
       "      <td>1.750179e+06</td>\n",
       "      <td>1.750179e+06</td>\n",
       "      <td>1.750671e+06</td>\n",
       "      <td>1.750173e+06</td>\n",
       "    </tr>\n",
       "    <tr>\n",
       "      <th>mean</th>\n",
       "      <td>5.736415e+04</td>\n",
       "      <td>1.522250e+00</td>\n",
       "      <td>2.466289e+04</td>\n",
       "      <td>27320.401316</td>\n",
       "      <td>9.241775e+01</td>\n",
       "      <td>4.340953e+06</td>\n",
       "      <td>1.148471e+00</td>\n",
       "      <td>9.240237e+01</td>\n",
       "    </tr>\n",
       "    <tr>\n",
       "      <th>std</th>\n",
       "      <td>2.914559e+04</td>\n",
       "      <td>8.811225e-01</td>\n",
       "      <td>1.567475e+04</td>\n",
       "      <td>33250.731065</td>\n",
       "      <td>1.654568e+02</td>\n",
       "      <td>1.016477e+07</td>\n",
       "      <td>9.055191e-01</td>\n",
       "      <td>1.654139e+02</td>\n",
       "    </tr>\n",
       "    <tr>\n",
       "      <th>min</th>\n",
       "      <td>1.010400e+04</td>\n",
       "      <td>0.000000e+00</td>\n",
       "      <td>7.000000e+00</td>\n",
       "      <td>0.000000</td>\n",
       "      <td>-3.488000e+01</td>\n",
       "      <td>0.000000e+00</td>\n",
       "      <td>5.000000e-03</td>\n",
       "      <td>1.300000e-01</td>\n",
       "    </tr>\n",
       "    <tr>\n",
       "      <th>25%</th>\n",
       "      <td>2.508100e+04</td>\n",
       "      <td>1.000000e+00</td>\n",
       "      <td>1.292600e+04</td>\n",
       "      <td>0.000000</td>\n",
       "      <td>3.429000e+01</td>\n",
       "      <td>9.295860e+05</td>\n",
       "      <td>1.000000e+00</td>\n",
       "      <td>3.428000e+01</td>\n",
       "    </tr>\n",
       "    <tr>\n",
       "      <th>50%</th>\n",
       "      <td>6.540200e+04</td>\n",
       "      <td>1.000000e+00</td>\n",
       "      <td>2.116100e+04</td>\n",
       "      <td>14409.000000</td>\n",
       "      <td>5.883000e+01</td>\n",
       "      <td>1.948225e+06</td>\n",
       "      <td>1.000000e+00</td>\n",
       "      <td>5.881000e+01</td>\n",
       "    </tr>\n",
       "    <tr>\n",
       "      <th>75%</th>\n",
       "      <td>8.438100e+04</td>\n",
       "      <td>3.000000e+00</td>\n",
       "      <td>3.474600e+04</td>\n",
       "      <td>60599.000000</td>\n",
       "      <td>9.903000e+01</td>\n",
       "      <td>4.239578e+06</td>\n",
       "      <td>1.000000e+00</td>\n",
       "      <td>9.902000e+01</td>\n",
       "    </tr>\n",
       "    <tr>\n",
       "      <th>max</th>\n",
       "      <td>9.343600e+04</td>\n",
       "      <td>5.000000e+00</td>\n",
       "      <td>5.823500e+04</td>\n",
       "      <td>93159.000000</td>\n",
       "      <td>5.959330e+03</td>\n",
       "      <td>1.809606e+09</td>\n",
       "      <td>2.800000e+01</td>\n",
       "      <td>5.977610e+03</td>\n",
       "    </tr>\n",
       "  </tbody>\n",
       "</table>\n",
       "</div>"
      ],
      "text/plain": [
       "             PERMNO        EXCHCD        PERMCO        NWPERM           PRC  \\\n",
       "count  1.750818e+06  1.750818e+06  1.750818e+06    152.000000  1.750179e+06   \n",
       "mean   5.736415e+04  1.522250e+00  2.466289e+04  27320.401316  9.241775e+01   \n",
       "std    2.914559e+04  8.811225e-01  1.567475e+04  33250.731065  1.654568e+02   \n",
       "min    1.010400e+04  0.000000e+00  7.000000e+00      0.000000 -3.488000e+01   \n",
       "25%    2.508100e+04  1.000000e+00  1.292600e+04      0.000000  3.429000e+01   \n",
       "50%    6.540200e+04  1.000000e+00  2.116100e+04  14409.000000  5.883000e+01   \n",
       "75%    8.438100e+04  3.000000e+00  3.474600e+04  60599.000000  9.903000e+01   \n",
       "max    9.343600e+04  5.000000e+00  5.823500e+04  93159.000000  5.959330e+03   \n",
       "\n",
       "                VOL        CFACPR       OPENPRC  \n",
       "count  1.750179e+06  1.750671e+06  1.750173e+06  \n",
       "mean   4.340953e+06  1.148471e+00  9.240237e+01  \n",
       "std    1.016477e+07  9.055191e-01  1.654139e+02  \n",
       "min    0.000000e+00  5.000000e-03  1.300000e-01  \n",
       "25%    9.295860e+05  1.000000e+00  3.428000e+01  \n",
       "50%    1.948225e+06  1.000000e+00  5.881000e+01  \n",
       "75%    4.239578e+06  1.000000e+00  9.902000e+01  \n",
       "max    1.809606e+09  2.800000e+01  5.977610e+03  "
      ]
     },
     "execution_count": 41,
     "metadata": {},
     "output_type": "execute_result"
    }
   ],
   "source": [
    "stockreturns.describe()"
   ]
  },
  {
   "cell_type": "markdown",
   "id": "484b7228",
   "metadata": {},
   "source": [
    "## Renaming Relevant Columns"
   ]
  },
  {
   "cell_type": "code",
   "execution_count": 42,
   "id": "ba308775",
   "metadata": {},
   "outputs": [],
   "source": [
    "stock_returns = stockreturns[['date', 'PERMNO', 'PRC']].rename({'date':'Date', 'PRC': 'ClosePrice', 'PERMNO': 'permno' }, axis=1)"
   ]
  },
  {
   "cell_type": "code",
   "execution_count": 43,
   "id": "0a8a7c3c",
   "metadata": {},
   "outputs": [],
   "source": [
    "snp = snp[['caldt', 'vwretx', 'ewretx']].rename({'caldt':'Date', 'vwretx': 'ValueWeightedReturnSnP', 'ewretx': 'EqualWeightedReturnSnP' }, axis=1)"
   ]
  },
  {
   "cell_type": "markdown",
   "id": "d62d65ac",
   "metadata": {},
   "source": [
    "# Calculating Returns\n",
    "$\\textbf{Note}$\n",
    "\n",
    "- Returns for a filing day n = $\\frac{ClosePrice_{n+3}}{ClosePrice_{n}}$ - 1\n",
    "\n",
    "- For calculating returns, we will assume that dividends would not matter as dividends can usually not be obtained by buying on Day 0 and Selling on Day 3.\n",
    "\n"
   ]
  },
  {
   "cell_type": "markdown",
   "id": "9adbae08",
   "metadata": {},
   "source": [
    "## Calculating S&P Returns"
   ]
  },
  {
   "cell_type": "markdown",
   "id": "32c32dbd",
   "metadata": {},
   "source": [
    "- Selecting Returns without Dividends\n",
    "- For Calculating 3D forward looking return on Day n, we need to compute $(1+return_{n+1})*(1+return_{n+2})*(1+return_{n+3})-1$"
   ]
  },
  {
   "cell_type": "code",
   "execution_count": 44,
   "id": "f98166a2",
   "metadata": {},
   "outputs": [
    {
     "data": {
      "text/html": [
       "<div>\n",
       "<style scoped>\n",
       "    .dataframe tbody tr th:only-of-type {\n",
       "        vertical-align: middle;\n",
       "    }\n",
       "\n",
       "    .dataframe tbody tr th {\n",
       "        vertical-align: top;\n",
       "    }\n",
       "\n",
       "    .dataframe thead th {\n",
       "        text-align: right;\n",
       "    }\n",
       "</style>\n",
       "<table border=\"1\" class=\"dataframe\">\n",
       "  <thead>\n",
       "    <tr style=\"text-align: right;\">\n",
       "      <th></th>\n",
       "      <th>Date</th>\n",
       "      <th>ValueWeightedReturnSnP</th>\n",
       "      <th>EqualWeightedReturnSnP</th>\n",
       "    </tr>\n",
       "  </thead>\n",
       "  <tbody>\n",
       "    <tr>\n",
       "      <th>0</th>\n",
       "      <td>2011-01-03</td>\n",
       "      <td>0.011291</td>\n",
       "      <td>0.011393</td>\n",
       "    </tr>\n",
       "    <tr>\n",
       "      <th>1</th>\n",
       "      <td>2011-01-04</td>\n",
       "      <td>-0.001254</td>\n",
       "      <td>-0.005429</td>\n",
       "    </tr>\n",
       "    <tr>\n",
       "      <th>2</th>\n",
       "      <td>2011-01-05</td>\n",
       "      <td>0.005039</td>\n",
       "      <td>0.005384</td>\n",
       "    </tr>\n",
       "    <tr>\n",
       "      <th>3</th>\n",
       "      <td>2011-01-06</td>\n",
       "      <td>-0.002089</td>\n",
       "      <td>-0.001959</td>\n",
       "    </tr>\n",
       "    <tr>\n",
       "      <th>4</th>\n",
       "      <td>2011-01-07</td>\n",
       "      <td>-0.001757</td>\n",
       "      <td>-0.001308</td>\n",
       "    </tr>\n",
       "    <tr>\n",
       "      <th>...</th>\n",
       "      <td>...</td>\n",
       "      <td>...</td>\n",
       "      <td>...</td>\n",
       "    </tr>\n",
       "    <tr>\n",
       "      <th>2764</th>\n",
       "      <td>2021-12-27</td>\n",
       "      <td>0.013611</td>\n",
       "      <td>0.012717</td>\n",
       "    </tr>\n",
       "    <tr>\n",
       "      <th>2765</th>\n",
       "      <td>2021-12-28</td>\n",
       "      <td>-0.000978</td>\n",
       "      <td>0.001400</td>\n",
       "    </tr>\n",
       "    <tr>\n",
       "      <th>2766</th>\n",
       "      <td>2021-12-29</td>\n",
       "      <td>0.001272</td>\n",
       "      <td>0.002826</td>\n",
       "    </tr>\n",
       "    <tr>\n",
       "      <th>2767</th>\n",
       "      <td>2021-12-30</td>\n",
       "      <td>-0.003045</td>\n",
       "      <td>-0.001697</td>\n",
       "    </tr>\n",
       "    <tr>\n",
       "      <th>2768</th>\n",
       "      <td>2021-12-31</td>\n",
       "      <td>-0.002650</td>\n",
       "      <td>0.000195</td>\n",
       "    </tr>\n",
       "  </tbody>\n",
       "</table>\n",
       "<p>2769 rows × 3 columns</p>\n",
       "</div>"
      ],
      "text/plain": [
       "           Date  ValueWeightedReturnSnP  EqualWeightedReturnSnP\n",
       "0    2011-01-03                0.011291                0.011393\n",
       "1    2011-01-04               -0.001254               -0.005429\n",
       "2    2011-01-05                0.005039                0.005384\n",
       "3    2011-01-06               -0.002089               -0.001959\n",
       "4    2011-01-07               -0.001757               -0.001308\n",
       "...         ...                     ...                     ...\n",
       "2764 2021-12-27                0.013611                0.012717\n",
       "2765 2021-12-28               -0.000978                0.001400\n",
       "2766 2021-12-29                0.001272                0.002826\n",
       "2767 2021-12-30               -0.003045               -0.001697\n",
       "2768 2021-12-31               -0.002650                0.000195\n",
       "\n",
       "[2769 rows x 3 columns]"
      ]
     },
     "execution_count": 44,
     "metadata": {},
     "output_type": "execute_result"
    }
   ],
   "source": [
    "snp "
   ]
  },
  {
   "cell_type": "code",
   "execution_count": 45,
   "id": "65ad0f14",
   "metadata": {},
   "outputs": [],
   "source": [
    "snp['onePlusValueWeightedReturnSnP'] = 1.0 + snp['ValueWeightedReturnSnP']\n",
    "snp['onePlusEqualWeightedReturnSnP'] = 1.0 + snp['EqualWeightedReturnSnP']"
   ]
  },
  {
   "cell_type": "code",
   "execution_count": 46,
   "id": "c20b7b93",
   "metadata": {},
   "outputs": [],
   "source": [
    "cum_snp = snp.iloc[::-1].rolling(4, on='Date',min_periods=4).apply(np.product).iloc[::-1]"
   ]
  },
  {
   "cell_type": "code",
   "execution_count": 47,
   "id": "42c632d6",
   "metadata": {},
   "outputs": [],
   "source": [
    "cum_snp = cum_snp.rename({'onePlusValueWeightedReturnSnP': 'OnePlusValueWeightedReturn4DSnP', 'onePlusEqualWeightedReturnSnP': 'OnePlusEqualWeightedReturn4DSnP'}, axis=1)\n"
   ]
  },
  {
   "cell_type": "code",
   "execution_count": 48,
   "id": "052ba972",
   "metadata": {},
   "outputs": [],
   "source": [
    "cum_snp = cum_snp[['Date', 'OnePlusValueWeightedReturn4DSnP', 'OnePlusEqualWeightedReturn4DSnP']]"
   ]
  },
  {
   "cell_type": "code",
   "execution_count": 49,
   "id": "84758a48",
   "metadata": {},
   "outputs": [],
   "source": [
    "snp = pd.merge(snp, cum_snp, on='Date')"
   ]
  },
  {
   "cell_type": "code",
   "execution_count": 50,
   "id": "b6a9bedc",
   "metadata": {},
   "outputs": [],
   "source": [
    "snp['ValueWeightedReturn3DSnP'] = snp['OnePlusValueWeightedReturn4DSnP']/snp['onePlusValueWeightedReturnSnP'] - 1.0\n",
    "snp['EqualWeightedReturn3DSnP'] = snp['OnePlusEqualWeightedReturn4DSnP']/snp['onePlusEqualWeightedReturnSnP'] - 1.0\n",
    "\n",
    "snp = snp.drop(['onePlusValueWeightedReturnSnP','onePlusEqualWeightedReturnSnP','OnePlusValueWeightedReturn4DSnP','OnePlusEqualWeightedReturn4DSnP'], axis =1)\n"
   ]
  },
  {
   "cell_type": "code",
   "execution_count": 52,
   "id": "c2fa1301",
   "metadata": {},
   "outputs": [
    {
     "data": {
      "text/html": [
       "<div>\n",
       "<style scoped>\n",
       "    .dataframe tbody tr th:only-of-type {\n",
       "        vertical-align: middle;\n",
       "    }\n",
       "\n",
       "    .dataframe tbody tr th {\n",
       "        vertical-align: top;\n",
       "    }\n",
       "\n",
       "    .dataframe thead th {\n",
       "        text-align: right;\n",
       "    }\n",
       "</style>\n",
       "<table border=\"1\" class=\"dataframe\">\n",
       "  <thead>\n",
       "    <tr style=\"text-align: right;\">\n",
       "      <th></th>\n",
       "      <th>Date</th>\n",
       "      <th>ValueWeightedReturnSnP</th>\n",
       "      <th>EqualWeightedReturnSnP</th>\n",
       "      <th>ValueWeightedReturn3DSnP</th>\n",
       "      <th>EqualWeightedReturn3DSnP</th>\n",
       "    </tr>\n",
       "  </thead>\n",
       "  <tbody>\n",
       "    <tr>\n",
       "      <th>0</th>\n",
       "      <td>2011-01-03</td>\n",
       "      <td>0.011291</td>\n",
       "      <td>0.011393</td>\n",
       "      <td>0.001682</td>\n",
       "      <td>-0.002033</td>\n",
       "    </tr>\n",
       "    <tr>\n",
       "      <th>1</th>\n",
       "      <td>2011-01-04</td>\n",
       "      <td>-0.001254</td>\n",
       "      <td>-0.005429</td>\n",
       "      <td>0.001177</td>\n",
       "      <td>0.002102</td>\n",
       "    </tr>\n",
       "    <tr>\n",
       "      <th>2</th>\n",
       "      <td>2011-01-05</td>\n",
       "      <td>0.005039</td>\n",
       "      <td>0.005384</td>\n",
       "      <td>-0.005385</td>\n",
       "      <td>-0.003859</td>\n",
       "    </tr>\n",
       "    <tr>\n",
       "      <th>3</th>\n",
       "      <td>2011-01-06</td>\n",
       "      <td>-0.002089</td>\n",
       "      <td>-0.001959</td>\n",
       "      <td>0.000513</td>\n",
       "      <td>0.002096</td>\n",
       "    </tr>\n",
       "    <tr>\n",
       "      <th>4</th>\n",
       "      <td>2011-01-07</td>\n",
       "      <td>-0.001757</td>\n",
       "      <td>-0.001308</td>\n",
       "      <td>0.011218</td>\n",
       "      <td>0.012342</td>\n",
       "    </tr>\n",
       "  </tbody>\n",
       "</table>\n",
       "</div>"
      ],
      "text/plain": [
       "        Date  ValueWeightedReturnSnP  EqualWeightedReturnSnP  \\\n",
       "0 2011-01-03                0.011291                0.011393   \n",
       "1 2011-01-04               -0.001254               -0.005429   \n",
       "2 2011-01-05                0.005039                0.005384   \n",
       "3 2011-01-06               -0.002089               -0.001959   \n",
       "4 2011-01-07               -0.001757               -0.001308   \n",
       "\n",
       "   ValueWeightedReturn3DSnP  EqualWeightedReturn3DSnP  \n",
       "0                  0.001682                 -0.002033  \n",
       "1                  0.001177                  0.002102  \n",
       "2                 -0.005385                 -0.003859  \n",
       "3                  0.000513                  0.002096  \n",
       "4                  0.011218                  0.012342  "
      ]
     },
     "execution_count": 52,
     "metadata": {},
     "output_type": "execute_result"
    }
   ],
   "source": [
    "snp.head()"
   ]
  },
  {
   "cell_type": "markdown",
   "id": "d2e56098",
   "metadata": {},
   "source": [
    "## Calculating Stock Returns "
   ]
  },
  {
   "cell_type": "markdown",
   "id": "5f0cc625",
   "metadata": {},
   "source": [
    "Since PERMNO is unique to a share class, doing a groupby and taking returns over PERMNO should suffice since the data is already sorted on date. "
   ]
  },
  {
   "cell_type": "code",
   "execution_count": 54,
   "id": "878a35ca",
   "metadata": {},
   "outputs": [],
   "source": [
    "cum_stock_returns = stock_returns.iloc[::-1].groupby('permno').rolling(2, on='Date',min_periods=2).apply(np.product).iloc[::-1]"
   ]
  },
  {
   "cell_type": "code",
   "execution_count": 55,
   "id": "96126484",
   "metadata": {},
   "outputs": [],
   "source": [
    "cum_stock_returns = cum_stock_returns.drop('permno', axis =1).reset_index()"
   ]
  },
  {
   "cell_type": "code",
   "execution_count": 56,
   "id": "0b05c0a1",
   "metadata": {},
   "outputs": [],
   "source": [
    "\n",
    "cum_stock_returns = cum_stock_returns[['Date', 'permno', 'ClosePrice']].rename({\"ClosePrice\": \"ClosePriceProduct\"}, axis = 1)\n"
   ]
  },
  {
   "cell_type": "code",
   "execution_count": 57,
   "id": "2bd3c9ad",
   "metadata": {},
   "outputs": [],
   "source": [
    "stock_returns = pd.merge(stock_returns, cum_stock_returns, on = ['Date', 'permno'])"
   ]
  },
  {
   "cell_type": "code",
   "execution_count": 58,
   "id": "7544d749",
   "metadata": {},
   "outputs": [],
   "source": [
    "stock_returns['OnePlusReturn'] = stock_returns['ClosePriceProduct']/ (stock_returns['ClosePrice']*stock_returns['ClosePrice'])"
   ]
  },
  {
   "cell_type": "code",
   "execution_count": 59,
   "id": "f6b9495a",
   "metadata": {},
   "outputs": [],
   "source": [
    "cum_stock_returns = stock_returns.iloc[::-1].groupby('permno').rolling(3, on='Date',min_periods=3).apply(np.product).iloc[::-1]\n"
   ]
  },
  {
   "cell_type": "code",
   "execution_count": 60,
   "id": "aab4f48e",
   "metadata": {},
   "outputs": [],
   "source": [
    "cum_stock_returns = cum_stock_returns.drop('permno', axis =1).reset_index()"
   ]
  },
  {
   "cell_type": "code",
   "execution_count": 61,
   "id": "c34e9728",
   "metadata": {},
   "outputs": [],
   "source": [
    "cum_stock_returns['StockReturn3D'] = cum_stock_returns['OnePlusReturn']-1"
   ]
  },
  {
   "cell_type": "code",
   "execution_count": 62,
   "id": "ca36077f",
   "metadata": {},
   "outputs": [],
   "source": [
    "cum_stock_returns = cum_stock_returns[['Date', 'permno', 'StockReturn3D']]"
   ]
  },
  {
   "cell_type": "code",
   "execution_count": 63,
   "id": "849ff44c",
   "metadata": {},
   "outputs": [],
   "source": [
    "stock_returns = pd.merge(stock_returns, cum_stock_returns, on = ['Date', 'permno'])"
   ]
  },
  {
   "cell_type": "code",
   "execution_count": 64,
   "id": "c9ec63aa",
   "metadata": {},
   "outputs": [],
   "source": [
    "# Plot the SnP Returns over time"
   ]
  },
  {
   "cell_type": "markdown",
   "id": "94890dab",
   "metadata": {},
   "source": [
    "## Merging Stock Returns and SnP returns to calculate excess returns"
   ]
  },
  {
   "cell_type": "code",
   "execution_count": 27,
   "id": "0bdef3b5",
   "metadata": {},
   "outputs": [],
   "source": [
    "stock_returns = stock_returns.dropna()"
   ]
  },
  {
   "cell_type": "code",
   "execution_count": 28,
   "id": "ff921156",
   "metadata": {},
   "outputs": [],
   "source": [
    "snp = snp.dropna()"
   ]
  },
  {
   "cell_type": "code",
   "execution_count": 29,
   "id": "0fbbf42b",
   "metadata": {},
   "outputs": [],
   "source": [
    "stock_returns = pd.merge(stock_returns,snp, on='Date', how='left')"
   ]
  },
  {
   "cell_type": "code",
   "execution_count": 30,
   "id": "52e41a4d",
   "metadata": {},
   "outputs": [
    {
     "data": {
      "text/html": [
       "<div>\n",
       "<style scoped>\n",
       "    .dataframe tbody tr th:only-of-type {\n",
       "        vertical-align: middle;\n",
       "    }\n",
       "\n",
       "    .dataframe tbody tr th {\n",
       "        vertical-align: top;\n",
       "    }\n",
       "\n",
       "    .dataframe thead th {\n",
       "        text-align: right;\n",
       "    }\n",
       "</style>\n",
       "<table border=\"1\" class=\"dataframe\">\n",
       "  <thead>\n",
       "    <tr style=\"text-align: right;\">\n",
       "      <th></th>\n",
       "      <th>Date</th>\n",
       "      <th>permno</th>\n",
       "      <th>ClosePrice</th>\n",
       "      <th>ClosePriceProduct</th>\n",
       "      <th>OnePlusReturn</th>\n",
       "      <th>StockReturn3D</th>\n",
       "      <th>ValueWeightedReturnSnP</th>\n",
       "      <th>EqualWeightedReturnSnP</th>\n",
       "      <th>ValueWeightedReturn3DSnP</th>\n",
       "      <th>EqualWeightedReturn3DSnP</th>\n",
       "    </tr>\n",
       "  </thead>\n",
       "  <tbody>\n",
       "    <tr>\n",
       "      <th>0</th>\n",
       "      <td>2011-01-03</td>\n",
       "      <td>10104</td>\n",
       "      <td>31.62000</td>\n",
       "      <td>9.953976e+02</td>\n",
       "      <td>0.995572</td>\n",
       "      <td>-1.423150e-02</td>\n",
       "      <td>0.011291</td>\n",
       "      <td>0.011393</td>\n",
       "      <td>0.001682</td>\n",
       "      <td>-0.002033</td>\n",
       "    </tr>\n",
       "    <tr>\n",
       "      <th>1</th>\n",
       "      <td>2011-01-04</td>\n",
       "      <td>10104</td>\n",
       "      <td>31.48000</td>\n",
       "      <td>9.771392e+02</td>\n",
       "      <td>0.986023</td>\n",
       "      <td>-1.429479e-02</td>\n",
       "      <td>-0.001254</td>\n",
       "      <td>-0.005429</td>\n",
       "      <td>0.001177</td>\n",
       "      <td>0.002102</td>\n",
       "    </tr>\n",
       "    <tr>\n",
       "      <th>2</th>\n",
       "      <td>2011-01-05</td>\n",
       "      <td>10104</td>\n",
       "      <td>31.04000</td>\n",
       "      <td>9.675168e+02</td>\n",
       "      <td>1.004188</td>\n",
       "      <td>2.220446e-16</td>\n",
       "      <td>0.005039</td>\n",
       "      <td>0.005384</td>\n",
       "      <td>-0.005385</td>\n",
       "      <td>-0.003859</td>\n",
       "    </tr>\n",
       "    <tr>\n",
       "      <th>3</th>\n",
       "      <td>2011-01-06</td>\n",
       "      <td>10104</td>\n",
       "      <td>31.17000</td>\n",
       "      <td>9.672051e+02</td>\n",
       "      <td>0.995509</td>\n",
       "      <td>-5.774783e-03</td>\n",
       "      <td>-0.002089</td>\n",
       "      <td>-0.001959</td>\n",
       "      <td>0.000513</td>\n",
       "      <td>0.002096</td>\n",
       "    </tr>\n",
       "    <tr>\n",
       "      <th>4</th>\n",
       "      <td>2011-01-07</td>\n",
       "      <td>10104</td>\n",
       "      <td>31.03000</td>\n",
       "      <td>9.631712e+02</td>\n",
       "      <td>1.000322</td>\n",
       "      <td>-2.739285e-03</td>\n",
       "      <td>-0.001757</td>\n",
       "      <td>-0.001308</td>\n",
       "      <td>0.011218</td>\n",
       "      <td>0.012342</td>\n",
       "    </tr>\n",
       "    <tr>\n",
       "      <th>...</th>\n",
       "      <td>...</td>\n",
       "      <td>...</td>\n",
       "      <td>...</td>\n",
       "      <td>...</td>\n",
       "      <td>...</td>\n",
       "      <td>...</td>\n",
       "      <td>...</td>\n",
       "      <td>...</td>\n",
       "      <td>...</td>\n",
       "      <td>...</td>\n",
       "    </tr>\n",
       "    <tr>\n",
       "      <th>1748060</th>\n",
       "      <td>2021-12-21</td>\n",
       "      <td>93436</td>\n",
       "      <td>938.53003</td>\n",
       "      <td>9.468548e+05</td>\n",
       "      <td>1.074947</td>\n",
       "      <td>1.655886e-01</td>\n",
       "      <td>0.017807</td>\n",
       "      <td>0.020616</td>\n",
       "      <td>0.030573</td>\n",
       "      <td>0.026850</td>\n",
       "    </tr>\n",
       "    <tr>\n",
       "      <th>1748061</th>\n",
       "      <td>2021-12-22</td>\n",
       "      <td>93436</td>\n",
       "      <td>1008.87000</td>\n",
       "      <td>1.076464e+06</td>\n",
       "      <td>1.057619</td>\n",
       "      <td>7.890013e-02</td>\n",
       "      <td>0.010279</td>\n",
       "      <td>0.007143</td>\n",
       "      <td>0.019090</td>\n",
       "      <td>0.020994</td>\n",
       "    </tr>\n",
       "    <tr>\n",
       "      <th>1748062</th>\n",
       "      <td>2021-12-23</td>\n",
       "      <td>93436</td>\n",
       "      <td>1067.00000</td>\n",
       "      <td>1.167234e+06</td>\n",
       "      <td>1.025248</td>\n",
       "      <td>1.798495e-02</td>\n",
       "      <td>0.006390</td>\n",
       "      <td>0.006764</td>\n",
       "      <td>0.013908</td>\n",
       "      <td>0.017001</td>\n",
       "    </tr>\n",
       "    <tr>\n",
       "      <th>1748063</th>\n",
       "      <td>2021-12-27</td>\n",
       "      <td>93436</td>\n",
       "      <td>1093.93994</td>\n",
       "      <td>1.190721e+06</td>\n",
       "      <td>0.995000</td>\n",
       "      <td>-2.157337e-02</td>\n",
       "      <td>0.013611</td>\n",
       "      <td>0.012717</td>\n",
       "      <td>-0.002753</td>\n",
       "      <td>0.002526</td>\n",
       "    </tr>\n",
       "    <tr>\n",
       "      <th>1748064</th>\n",
       "      <td>2021-12-28</td>\n",
       "      <td>93436</td>\n",
       "      <td>1088.46997</td>\n",
       "      <td>1.182285e+06</td>\n",
       "      <td>0.997905</td>\n",
       "      <td>-2.911421e-02</td>\n",
       "      <td>-0.000978</td>\n",
       "      <td>0.001400</td>\n",
       "      <td>-0.004422</td>\n",
       "      <td>0.001319</td>\n",
       "    </tr>\n",
       "  </tbody>\n",
       "</table>\n",
       "<p>1748065 rows × 10 columns</p>\n",
       "</div>"
      ],
      "text/plain": [
       "              Date  permno  ClosePrice  ClosePriceProduct  OnePlusReturn  \\\n",
       "0       2011-01-03   10104    31.62000       9.953976e+02       0.995572   \n",
       "1       2011-01-04   10104    31.48000       9.771392e+02       0.986023   \n",
       "2       2011-01-05   10104    31.04000       9.675168e+02       1.004188   \n",
       "3       2011-01-06   10104    31.17000       9.672051e+02       0.995509   \n",
       "4       2011-01-07   10104    31.03000       9.631712e+02       1.000322   \n",
       "...            ...     ...         ...                ...            ...   \n",
       "1748060 2021-12-21   93436   938.53003       9.468548e+05       1.074947   \n",
       "1748061 2021-12-22   93436  1008.87000       1.076464e+06       1.057619   \n",
       "1748062 2021-12-23   93436  1067.00000       1.167234e+06       1.025248   \n",
       "1748063 2021-12-27   93436  1093.93994       1.190721e+06       0.995000   \n",
       "1748064 2021-12-28   93436  1088.46997       1.182285e+06       0.997905   \n",
       "\n",
       "         StockReturn3D  ValueWeightedReturnSnP  EqualWeightedReturnSnP  \\\n",
       "0        -1.423150e-02                0.011291                0.011393   \n",
       "1        -1.429479e-02               -0.001254               -0.005429   \n",
       "2         2.220446e-16                0.005039                0.005384   \n",
       "3        -5.774783e-03               -0.002089               -0.001959   \n",
       "4        -2.739285e-03               -0.001757               -0.001308   \n",
       "...                ...                     ...                     ...   \n",
       "1748060   1.655886e-01                0.017807                0.020616   \n",
       "1748061   7.890013e-02                0.010279                0.007143   \n",
       "1748062   1.798495e-02                0.006390                0.006764   \n",
       "1748063  -2.157337e-02                0.013611                0.012717   \n",
       "1748064  -2.911421e-02               -0.000978                0.001400   \n",
       "\n",
       "         ValueWeightedReturn3DSnP  EqualWeightedReturn3DSnP  \n",
       "0                        0.001682                 -0.002033  \n",
       "1                        0.001177                  0.002102  \n",
       "2                       -0.005385                 -0.003859  \n",
       "3                        0.000513                  0.002096  \n",
       "4                        0.011218                  0.012342  \n",
       "...                           ...                       ...  \n",
       "1748060                  0.030573                  0.026850  \n",
       "1748061                  0.019090                  0.020994  \n",
       "1748062                  0.013908                  0.017001  \n",
       "1748063                 -0.002753                  0.002526  \n",
       "1748064                 -0.004422                  0.001319  \n",
       "\n",
       "[1748065 rows x 10 columns]"
      ]
     },
     "execution_count": 30,
     "metadata": {},
     "output_type": "execute_result"
    }
   ],
   "source": [
    "stock_returns"
   ]
  },
  {
   "cell_type": "code",
   "execution_count": 46,
   "id": "b8d23421",
   "metadata": {},
   "outputs": [
    {
     "data": {
      "text/plain": [
       "0.1655886386501666"
      ]
     },
     "execution_count": 46,
     "metadata": {},
     "output_type": "execute_result"
    }
   ],
   "source": [
    "1093.93994/938.53003 - 1"
   ]
  },
  {
   "cell_type": "code",
   "execution_count": 31,
   "id": "ce721351",
   "metadata": {},
   "outputs": [],
   "source": [
    "stock_returns['ExcessReturnsEqualWeightedSnP'] = stock_returns['StockReturn3D'] - stock_returns['EqualWeightedReturn3DSnP'] \n",
    "stock_returns['ExcessReturnsValueWeightedSnP'] = stock_returns['StockReturn3D'] - stock_returns['ValueWeightedReturn3DSnP'] \n"
   ]
  },
  {
   "cell_type": "code",
   "execution_count": 32,
   "id": "45ea8e21",
   "metadata": {},
   "outputs": [],
   "source": [
    "excess_returns = stock_returns[['Date', 'permno','ExcessReturnsEqualWeightedSnP', 'ExcessReturnsValueWeightedSnP']]"
   ]
  },
  {
   "cell_type": "code",
   "execution_count": 33,
   "id": "b182c332",
   "metadata": {},
   "outputs": [],
   "source": [
    "excess_returns = excess_returns.rename({'Date': 'filingDate'}, axis=1)"
   ]
  },
  {
   "cell_type": "markdown",
   "id": "3ea50f54",
   "metadata": {},
   "source": [
    "## Merging Excess Returns with URL data"
   ]
  },
  {
   "cell_type": "code",
   "execution_count": 34,
   "id": "1c69e721",
   "metadata": {},
   "outputs": [],
   "source": [
    "finalMergedData = pd.merge(urls, excess_returns, on=['filingDate', 'permno'], how= 'left')"
   ]
  },
  {
   "cell_type": "code",
   "execution_count": 35,
   "id": "b191fb6c",
   "metadata": {},
   "outputs": [],
   "source": [
    "dates =  finalMergedData[finalMergedData['ExcessReturnsEqualWeightedSnP'].isnull()]['date'].unique()"
   ]
  },
  {
   "cell_type": "code",
   "execution_count": 36,
   "id": "ce878117",
   "metadata": {},
   "outputs": [],
   "source": [
    "from datetime import date, datetime\n",
    "import calendar"
   ]
  },
  {
   "cell_type": "code",
   "execution_count": 37,
   "id": "82dce1b2",
   "metadata": {},
   "outputs": [
    {
     "name": "stdout",
     "output_type": "stream",
     "text": [
      "2021-12-31    421\n",
      "2012-09-30     25\n",
      "2021-11-30     12\n",
      "2016-06-30      3\n",
      "2018-09-30      3\n",
      "2011-03-31      3\n",
      "2019-03-31      3\n",
      "2012-08-31      2\n",
      "2012-02-29      2\n",
      "2015-12-31      1\n",
      "2017-06-30      1\n",
      "2015-06-30      1\n",
      "2018-02-28      1\n",
      "2012-06-30      1\n",
      "2016-03-31      1\n",
      "2021-02-28      1\n",
      "2016-12-31      1\n",
      "2015-05-31      1\n",
      "2018-01-31      1\n",
      "2016-01-31      1\n",
      "2014-03-31      1\n",
      "2014-12-31      1\n",
      "2020-03-31      1\n",
      "2019-02-28      1\n",
      "2017-09-30      1\n",
      "2018-12-31      1\n",
      "2013-06-30      1\n",
      "2015-02-28      1\n",
      "Name: date, dtype: int64\n"
     ]
    }
   ],
   "source": [
    "print(finalMergedData[finalMergedData['ExcessReturnsEqualWeightedSnP'].isnull()]['date'].value_counts())"
   ]
  },
  {
   "cell_type": "code",
   "execution_count": 38,
   "id": "9bb5c6c0",
   "metadata": {},
   "outputs": [
    {
     "name": "stdout",
     "output_type": "stream",
     "text": [
      "2021-12-31 00:00:00 Friday\n",
      "2012-09-30 00:00:00 Sunday\n",
      "2018-12-31 00:00:00 Monday\n",
      "2016-06-30 00:00:00 Thursday\n",
      "2018-09-30 00:00:00 Sunday\n",
      "2016-12-31 00:00:00 Saturday\n",
      "2012-06-30 00:00:00 Saturday\n",
      "2015-06-30 00:00:00 Tuesday\n",
      "2021-11-30 00:00:00 Tuesday\n",
      "2019-03-31 00:00:00 Sunday\n",
      "2011-03-31 00:00:00 Thursday\n",
      "2018-01-31 00:00:00 Wednesday\n",
      "2015-12-31 00:00:00 Thursday\n",
      "2012-02-29 00:00:00 Wednesday\n",
      "2021-02-28 00:00:00 Sunday\n",
      "2015-05-31 00:00:00 Sunday\n",
      "2014-03-31 00:00:00 Monday\n",
      "2015-02-28 00:00:00 Saturday\n",
      "2012-08-31 00:00:00 Friday\n",
      "2019-02-28 00:00:00 Thursday\n",
      "2017-06-30 00:00:00 Friday\n",
      "2013-06-30 00:00:00 Sunday\n",
      "2020-03-31 00:00:00 Tuesday\n",
      "2014-12-31 00:00:00 Wednesday\n",
      "2016-03-31 00:00:00 Thursday\n",
      "2016-01-31 00:00:00 Sunday\n",
      "2018-02-28 00:00:00 Wednesday\n",
      "2017-09-30 00:00:00 Saturday\n"
     ]
    }
   ],
   "source": [
    "for ele in dates:\n",
    "    ele = datetime.strptime(ele, '%Y-%m-%d')\n",
    "    print(ele, calendar.day_name[ele.weekday()])"
   ]
  },
  {
   "cell_type": "code",
   "execution_count": 39,
   "id": "b4903f67",
   "metadata": {},
   "outputs": [],
   "source": [
    "finalMergedData = finalMergedData[finalMergedData['ExcessReturnsEqualWeightedSnP'].notna()].reset_index(drop=True)"
   ]
  },
  {
   "cell_type": "code",
   "execution_count": 40,
   "id": "17ef3010",
   "metadata": {},
   "outputs": [
    {
     "data": {
      "text/plain": [
       "array([ True])"
      ]
     },
     "execution_count": 40,
     "metadata": {},
     "output_type": "execute_result"
    }
   ],
   "source": [
    "finalMergedData['ExcessReturnsValueWeightedSnP'].notna().unique()"
   ]
  },
  {
   "cell_type": "code",
   "execution_count": 41,
   "id": "df3ca393",
   "metadata": {},
   "outputs": [],
   "source": [
    "finalMergedData.to_csv('url_with_returns.csv', index=False)"
   ]
  }
 ],
 "metadata": {
  "kernelspec": {
   "display_name": "Python 3.8 (XPython)",
   "language": "python",
   "name": "xpython"
  },
  "language_info": {
   "file_extension": ".py",
   "mimetype": "text/x-python",
   "name": "python",
   "version": "3.8.12"
  }
 },
 "nbformat": 4,
 "nbformat_minor": 5
}
