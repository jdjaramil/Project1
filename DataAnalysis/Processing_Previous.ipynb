{
 "cells": [
  {
   "cell_type": "code",
   "execution_count": 1,
   "id": "8385529d",
   "metadata": {},
   "outputs": [],
   "source": [
    "import pandas as pd\n",
    "\n",
    "import numpy as np\n",
    "\n",
    "from nltk.corpus import stopwords\n",
    "\n",
    "import pysentiment2 as ps\n",
    "\n",
    "import nltk\n",
    "\n",
    "import pysentiment2 as ps\n",
    "\n",
    "from nltk.stem.porter import *\n",
    "import os"
   ]
  },
  {
   "cell_type": "code",
   "execution_count": 2,
   "id": "852ea769",
   "metadata": {},
   "outputs": [],
   "source": [
    "def countWords(documentTokens, listNegativeWords):\n",
    "    '''\n",
    "    This functions will return a dictionary with keys being the masterDictionary keys and values are the number of times\n",
    "    the word is in the master dictionary\n",
    "    Parameters:\n",
    "        documentTokens: (list) tokens of the document\n",
    "        listNegativeWords: (list) negative words\n",
    "    '''\n",
    "    #listNegativeWords = set(listNegativeWords)\n",
    "    #for token in documentTokens:\n",
    "    #    if token in listNegativeWords:\n",
    "    \n",
    "            \n",
    "    masterDictionary = dict(zip(listNegativeWords, [0]*len(listNegativeWords)))\n",
    "    for word in documentTokens:\n",
    "        if word in masterDictionary.keys():\n",
    "            masterDictionary[word] += 1\n",
    "            \n",
    "    return masterDictionary"
   ]
  },
  {
   "cell_type": "code",
   "execution_count": 3,
   "id": "0bba8539",
   "metadata": {},
   "outputs": [
    {
     "name": "stdout",
     "output_type": "stream",
     "text": [
      "(11383, 5)\n"
     ]
    },
    {
     "name": "stderr",
     "output_type": "stream",
     "text": [
      "C:\\Users\\JuliJaramillo\\anaconda3\\lib\\site-packages\\IPython\\core\\interactiveshell.py:3444: DtypeWarning: Columns (9) have mixed types.Specify dtype option on import or set low_memory=False.\n",
      "  exec(code_obj, self.user_global_ns, self.user_ns)\n",
      "C:\\Users\\JuliJaramillo\\AppData\\Local\\Temp\\ipykernel_22120\\2655062236.py:3: DeprecationWarning: `np.int` is a deprecated alias for the builtin `int`. To silence this warning, use `int` by itself. Doing this will not modify any behavior and is safe. When replacing `np.int`, you may wish to use e.g. `np.int64` or `np.int32` to specify the precision. If you wish to review your current use, check the release note link for additional information.\n",
      "Deprecated in NumPy 1.20; for more details and guidance: https://numpy.org/devdocs/release/1.20.0-notes.html#deprecations\n",
      "  df['cik'] = df['cik'].astype(np.int).astype(str).str.pad(10, fillchar='0')\n"
     ]
    },
    {
     "data": {
      "text/html": [
       "<div>\n",
       "<style scoped>\n",
       "    .dataframe tbody tr th:only-of-type {\n",
       "        vertical-align: middle;\n",
       "    }\n",
       "\n",
       "    .dataframe tbody tr th {\n",
       "        vertical-align: top;\n",
       "    }\n",
       "\n",
       "    .dataframe thead th {\n",
       "        text-align: right;\n",
       "    }\n",
       "</style>\n",
       "<table border=\"1\" class=\"dataframe\">\n",
       "  <thead>\n",
       "    <tr style=\"text-align: right;\">\n",
       "      <th></th>\n",
       "      <th>reportDate</th>\n",
       "      <th>filingDate</th>\n",
       "      <th>cik</th>\n",
       "      <th>ExcessReturnsEqualWeightedSnP</th>\n",
       "      <th>ExcessReturnsValueWeightedSnP</th>\n",
       "    </tr>\n",
       "  </thead>\n",
       "  <tbody>\n",
       "    <tr>\n",
       "      <th>20</th>\n",
       "      <td>2016-03-31</td>\n",
       "      <td>2016-05-09</td>\n",
       "      <td>0000814453</td>\n",
       "      <td>0.015216</td>\n",
       "      <td>0.012411</td>\n",
       "    </tr>\n",
       "    <tr>\n",
       "      <th>21</th>\n",
       "      <td>2016-06-30</td>\n",
       "      <td>2016-08-09</td>\n",
       "      <td>0000814453</td>\n",
       "      <td>0.010468</td>\n",
       "      <td>0.012448</td>\n",
       "    </tr>\n",
       "    <tr>\n",
       "      <th>22</th>\n",
       "      <td>2016-09-30</td>\n",
       "      <td>2016-11-08</td>\n",
       "      <td>0000814453</td>\n",
       "      <td>-0.077190</td>\n",
       "      <td>-0.069763</td>\n",
       "    </tr>\n",
       "    <tr>\n",
       "      <th>23</th>\n",
       "      <td>2016-12-31</td>\n",
       "      <td>2017-03-01</td>\n",
       "      <td>0000814453</td>\n",
       "      <td>-0.000803</td>\n",
       "      <td>-0.003919</td>\n",
       "    </tr>\n",
       "    <tr>\n",
       "      <th>24</th>\n",
       "      <td>2017-03-31</td>\n",
       "      <td>2017-05-10</td>\n",
       "      <td>0000814453</td>\n",
       "      <td>0.001553</td>\n",
       "      <td>-0.002548</td>\n",
       "    </tr>\n",
       "  </tbody>\n",
       "</table>\n",
       "</div>"
      ],
      "text/plain": [
       "    reportDate  filingDate         cik  ExcessReturnsEqualWeightedSnP  \\\n",
       "20  2016-03-31  2016-05-09  0000814453                       0.015216   \n",
       "21  2016-06-30  2016-08-09  0000814453                       0.010468   \n",
       "22  2016-09-30  2016-11-08  0000814453                      -0.077190   \n",
       "23  2016-12-31  2017-03-01  0000814453                      -0.000803   \n",
       "24  2017-03-31  2017-05-10  0000814453                       0.001553   \n",
       "\n",
       "    ExcessReturnsValueWeightedSnP  \n",
       "20                       0.012411  \n",
       "21                       0.012448  \n",
       "22                      -0.069763  \n",
       "23                      -0.003919  \n",
       "24                      -0.002548  "
      ]
     },
     "execution_count": 3,
     "metadata": {},
     "output_type": "execute_result"
    }
   ],
   "source": [
    "#Load the Returns file\n",
    "df = pd.read_csv('../DataRetrieval/url_with_returns.csv')[['reportDate','filingDate', 'cik', 'ExcessReturnsEqualWeightedSnP', 'ExcessReturnsValueWeightedSnP']]\n",
    "df['cik'] = df['cik'].astype(np.int).astype(str).str.pad(10, fillchar='0')\n",
    "df = df[df.reportDate >= '2016-01-01']\n",
    "print(df.shape)\n",
    "df.head()"
   ]
  },
  {
   "cell_type": "code",
   "execution_count": 4,
   "id": "13fc9471",
   "metadata": {},
   "outputs": [
    {
     "name": "stderr",
     "output_type": "stream",
     "text": [
      "C:\\Users\\JuliJaramillo\\anaconda3\\lib\\site-packages\\openpyxl\\worksheet\\_reader.py:312: UserWarning: Unknown extension is not supported and will be removed\n",
      "  warn(msg)\n"
     ]
    }
   ],
   "source": [
    "#Define the dictionaries\n",
    "\n",
    "#HarvardDictionary = list(ps.HIV4()._negset)\n",
    "#LMDictionary = list(ps.LM()._negset)\n",
    "\n",
    "LMDictionary = pd.read_excel('LM_Neg.xlsx', sheet_name = 'ND_FinTerms_Negative_v2', header = None).values.reshape(-1)\n",
    "LMDictionary = [w.lower() for w in LMDictionary ]\n",
    "HarvardDictionary = list(pd.read_csv('Harvard_Neg.csv').columns)\n",
    "HarvardDictionary = [w.strip().lower() for w in HarvardDictionary ]\n",
    "\n",
    "#Define the stopwords dictionary\n",
    "stop_words = list(set(stopwords.words('english')))"
   ]
  },
  {
   "cell_type": "code",
   "execution_count": 5,
   "id": "89395fca",
   "metadata": {},
   "outputs": [
    {
     "name": "stdout",
     "output_type": "stream",
     "text": [
      "100\n"
     ]
    }
   ],
   "source": [
    "proportion = []\n",
    "listFileNames = os.listdir('../DataRetrieval/Forms/')\n",
    "\n",
    "for row, fileName in enumerate(listFileNames):\n",
    "    \n",
    "    cik = fileName.split('_')[0]\n",
    "    filingDate = fileName.split('_')[1].split('.')[0]\n",
    "\n",
    "    \n",
    "    path = '../DataRetrieval/Forms/{}_{}.txt'.format(cik, filingDate)\n",
    "    \n",
    "    f = open(path, \"r\")\n",
    "    text = f.read()\n",
    "    \n",
    "    tokensOwn = nltk.word_tokenize(text)\n",
    "    filteredText = [w for w in tokensOwn if not w in stop_words]\n",
    "    \n",
    "    #lemmatized = [PorterStemmer().stem(w) for w in filteredText]\n",
    "    \n",
    "    countingLM = countWords(filteredText, LMDictionary)\n",
    "    countingHAR = countWords(filteredText, HarvardDictionary)\n",
    "    \n",
    "    propLM = sum(list(countingLM.values())) /  len(filteredText)\n",
    "    propHar = sum(list(countingHAR.values())) /  len(filteredText)\n",
    "    \n",
    "    proportion.append( (cik, filingDate, propLM, propHar) )\n",
    "    \n",
    "    f.close()\n",
    "    if (row % 100 == 0) & (row != 0): \n",
    "        print(row)\n",
    "        break\n"
   ]
  },
  {
   "cell_type": "code",
   "execution_count": 6,
   "id": "ac356eab",
   "metadata": {},
   "outputs": [
    {
     "data": {
      "text/html": [
       "<div>\n",
       "<style scoped>\n",
       "    .dataframe tbody tr th:only-of-type {\n",
       "        vertical-align: middle;\n",
       "    }\n",
       "\n",
       "    .dataframe tbody tr th {\n",
       "        vertical-align: top;\n",
       "    }\n",
       "\n",
       "    .dataframe thead th {\n",
       "        text-align: right;\n",
       "    }\n",
       "</style>\n",
       "<table border=\"1\" class=\"dataframe\">\n",
       "  <thead>\n",
       "    <tr style=\"text-align: right;\">\n",
       "      <th></th>\n",
       "      <th>cik</th>\n",
       "      <th>filingDate</th>\n",
       "      <th>LM_Prop</th>\n",
       "      <th>Har_Prop</th>\n",
       "    </tr>\n",
       "  </thead>\n",
       "  <tbody>\n",
       "    <tr>\n",
       "      <th>0</th>\n",
       "      <td>0000001800</td>\n",
       "      <td>2016-05-04</td>\n",
       "      <td>0.021715</td>\n",
       "      <td>0.043840</td>\n",
       "    </tr>\n",
       "    <tr>\n",
       "      <th>1</th>\n",
       "      <td>0000001800</td>\n",
       "      <td>2016-08-03</td>\n",
       "      <td>0.023491</td>\n",
       "      <td>0.043971</td>\n",
       "    </tr>\n",
       "    <tr>\n",
       "      <th>2</th>\n",
       "      <td>0000001800</td>\n",
       "      <td>2016-11-03</td>\n",
       "      <td>0.025859</td>\n",
       "      <td>0.046570</td>\n",
       "    </tr>\n",
       "    <tr>\n",
       "      <th>3</th>\n",
       "      <td>0000001800</td>\n",
       "      <td>2017-02-17</td>\n",
       "      <td>0.024818</td>\n",
       "      <td>0.039822</td>\n",
       "    </tr>\n",
       "    <tr>\n",
       "      <th>4</th>\n",
       "      <td>0000001800</td>\n",
       "      <td>2017-05-03</td>\n",
       "      <td>0.020300</td>\n",
       "      <td>0.039862</td>\n",
       "    </tr>\n",
       "  </tbody>\n",
       "</table>\n",
       "</div>"
      ],
      "text/plain": [
       "          cik  filingDate   LM_Prop  Har_Prop\n",
       "0  0000001800  2016-05-04  0.021715  0.043840\n",
       "1  0000001800  2016-08-03  0.023491  0.043971\n",
       "2  0000001800  2016-11-03  0.025859  0.046570\n",
       "3  0000001800  2017-02-17  0.024818  0.039822\n",
       "4  0000001800  2017-05-03  0.020300  0.039862"
      ]
     },
     "execution_count": 6,
     "metadata": {},
     "output_type": "execute_result"
    }
   ],
   "source": [
    "newDf = pd.DataFrame(proportion, columns = ['cik', 'filingDate', 'LM_Prop', 'Har_Prop'])\n",
    "newDf.head()"
   ]
  }
 ],
 "metadata": {
  "kernelspec": {
   "display_name": "Python 3 (ipykernel)",
   "language": "python",
   "name": "python3"
  },
  "language_info": {
   "codemirror_mode": {
    "name": "ipython",
    "version": 3
   },
   "file_extension": ".py",
   "mimetype": "text/x-python",
   "name": "python",
   "nbconvert_exporter": "python",
   "pygments_lexer": "ipython3",
   "version": "3.8.8"
  }
 },
 "nbformat": 4,
 "nbformat_minor": 5
}
